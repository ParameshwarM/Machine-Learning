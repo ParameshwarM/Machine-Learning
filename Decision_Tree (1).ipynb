{
  "nbformat": 4,
  "nbformat_minor": 0,
  "metadata": {
    "colab": {
      "name": "Decision_Tree.ipynb",
      "provenance": [],
      "collapsed_sections": []
    },
    "kernelspec": {
      "name": "python3",
      "display_name": "Python 3"
    }
  },
  "cells": [
    {
      "cell_type": "markdown",
      "metadata": {
        "id": "WLMkIoD68NLu",
        "colab_type": "text"
      },
      "source": [
        "##Decision Tree"
      ]
    },
    {
      "cell_type": "code",
      "metadata": {
        "id": "-gsw6SnLnJCZ",
        "colab_type": "code",
        "colab": {}
      },
      "source": [
        "%matplotlib inline\n",
        "import pandas as pd\n",
        "import numpy as np\n",
        "import matplotlib.pyplot as plt\n",
        "import seaborn as sns\n",
        "import matplotlib"
      ],
      "execution_count": null,
      "outputs": []
    },
    {
      "cell_type": "code",
      "metadata": {
        "id": "VlrccUQN8byF",
        "colab_type": "code",
        "colab": {
          "resources": {
            "http://localhost:8080/nbextensions/google.colab/files.js": {
              "data": "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",
              "ok": true,
              "headers": [
                [
                  "content-type",
                  "application/javascript"
                ]
              ],
              "status": 200,
              "status_text": ""
            }
          },
          "base_uri": "https://localhost:8080/",
          "height": 74
        },
        "outputId": "f3fa4e8d-b1e9-43f4-d7c9-aa6bf3329050"
      },
      "source": [
        "from google.colab import files\n",
        "uploaded = files.upload() "
      ],
      "execution_count": null,
      "outputs": [
        {
          "output_type": "display_data",
          "data": {
            "text/html": [
              "\n",
              "     <input type=\"file\" id=\"files-bee3cb1a-e102-40c1-b331-a1c6ab0339b1\" name=\"files[]\" multiple disabled />\n",
              "     <output id=\"result-bee3cb1a-e102-40c1-b331-a1c6ab0339b1\">\n",
              "      Upload widget is only available when the cell has been executed in the\n",
              "      current browser session. Please rerun this cell to enable.\n",
              "      </output>\n",
              "      <script src=\"/nbextensions/google.colab/files.js\"></script> "
            ],
            "text/plain": [
              "<IPython.core.display.HTML object>"
            ]
          },
          "metadata": {
            "tags": []
          }
        },
        {
          "output_type": "stream",
          "text": [
            "Saving mushrooms.csv to mushrooms.csv\n"
          ],
          "name": "stdout"
        }
      ]
    },
    {
      "cell_type": "code",
      "metadata": {
        "id": "U_07qW-ooSii",
        "colab_type": "code",
        "colab": {
          "base_uri": "https://localhost:8080/",
          "height": 255
        },
        "outputId": "3e3eaa2b-da7f-49cd-b0cf-3efd98c0645a"
      },
      "source": [
        "dataset  = pd.read_csv('mushrooms.csv')\n",
        "dataset.head"
      ],
      "execution_count": null,
      "outputs": [
        {
          "output_type": "execute_result",
          "data": {
            "text/plain": [
              "<bound method NDFrame.head of      class cap-shape cap-surface  ... spore-print-color population habitat\n",
              "0        p         x           s  ...                 k          s       u\n",
              "1        e         x           s  ...                 n          n       g\n",
              "2        e         b           s  ...                 n          n       m\n",
              "3        p         x           y  ...                 k          s       u\n",
              "4        e         x           s  ...                 n          a       g\n",
              "...    ...       ...         ...  ...               ...        ...     ...\n",
              "8119     e         k           s  ...                 b          c       l\n",
              "8120     e         x           s  ...                 b          v       l\n",
              "8121     e         f           s  ...                 b          c       l\n",
              "8122     p         k           y  ...                 w          v       l\n",
              "8123     e         x           s  ...                 o          c       l\n",
              "\n",
              "[8124 rows x 23 columns]>"
            ]
          },
          "metadata": {
            "tags": []
          },
          "execution_count": 3
        }
      ]
    },
    {
      "cell_type": "code",
      "metadata": {
        "id": "15JEhN-Xoef7",
        "colab_type": "code",
        "colab": {
          "base_uri": "https://localhost:8080/",
          "height": 34
        },
        "outputId": "321f9540-ed73-4995-8c05-32acd1c308e7"
      },
      "source": [
        "dataset.shape"
      ],
      "execution_count": null,
      "outputs": [
        {
          "output_type": "execute_result",
          "data": {
            "text/plain": [
              "(8124, 23)"
            ]
          },
          "metadata": {
            "tags": []
          },
          "execution_count": 4
        }
      ]
    },
    {
      "cell_type": "code",
      "metadata": {
        "id": "MAieBU9SojBW",
        "colab_type": "code",
        "colab": {
          "base_uri": "https://localhost:8080/",
          "height": 493
        },
        "outputId": "d079a8c9-869f-4978-a279-93be01b2416d"
      },
      "source": [
        "dataset.info()"
      ],
      "execution_count": null,
      "outputs": [
        {
          "output_type": "stream",
          "text": [
            "<class 'pandas.core.frame.DataFrame'>\n",
            "RangeIndex: 8124 entries, 0 to 8123\n",
            "Data columns (total 23 columns):\n",
            "class                       8124 non-null object\n",
            "cap-shape                   8124 non-null object\n",
            "cap-surface                 8124 non-null object\n",
            "cap-color                   8124 non-null object\n",
            "bruises                     8124 non-null object\n",
            "odor                        8124 non-null object\n",
            "gill-attachment             8124 non-null object\n",
            "gill-spacing                8124 non-null object\n",
            "gill-size                   8124 non-null object\n",
            "gill-color                  8124 non-null object\n",
            "stalk-shape                 8124 non-null object\n",
            "stalk-root                  8124 non-null object\n",
            "stalk-surface-above-ring    8124 non-null object\n",
            "stalk-surface-below-ring    8124 non-null object\n",
            "stalk-color-above-ring      8124 non-null object\n",
            "stalk-color-below-ring      8124 non-null object\n",
            "veil-type                   8124 non-null object\n",
            "veil-color                  8124 non-null object\n",
            "ring-number                 8124 non-null object\n",
            "ring-type                   8124 non-null object\n",
            "spore-print-color           8124 non-null object\n",
            "population                  8124 non-null object\n",
            "habitat                     8124 non-null object\n",
            "dtypes: object(23)\n",
            "memory usage: 1.4+ MB\n"
          ],
          "name": "stdout"
        }
      ]
    },
    {
      "cell_type": "code",
      "metadata": {
        "id": "pqEGefegolck",
        "colab_type": "code",
        "colab": {
          "base_uri": "https://localhost:8080/",
          "height": 244
        },
        "outputId": "3654e1f5-c100-47b6-9668-25411e694b8f"
      },
      "source": [
        "dataset.describe()"
      ],
      "execution_count": null,
      "outputs": [
        {
          "output_type": "execute_result",
          "data": {
            "text/html": [
              "<div>\n",
              "<style scoped>\n",
              "    .dataframe tbody tr th:only-of-type {\n",
              "        vertical-align: middle;\n",
              "    }\n",
              "\n",
              "    .dataframe tbody tr th {\n",
              "        vertical-align: top;\n",
              "    }\n",
              "\n",
              "    .dataframe thead th {\n",
              "        text-align: right;\n",
              "    }\n",
              "</style>\n",
              "<table border=\"1\" class=\"dataframe\">\n",
              "  <thead>\n",
              "    <tr style=\"text-align: right;\">\n",
              "      <th></th>\n",
              "      <th>class</th>\n",
              "      <th>cap-shape</th>\n",
              "      <th>cap-surface</th>\n",
              "      <th>cap-color</th>\n",
              "      <th>bruises</th>\n",
              "      <th>odor</th>\n",
              "      <th>gill-attachment</th>\n",
              "      <th>gill-spacing</th>\n",
              "      <th>gill-size</th>\n",
              "      <th>gill-color</th>\n",
              "      <th>stalk-shape</th>\n",
              "      <th>stalk-root</th>\n",
              "      <th>stalk-surface-above-ring</th>\n",
              "      <th>stalk-surface-below-ring</th>\n",
              "      <th>stalk-color-above-ring</th>\n",
              "      <th>stalk-color-below-ring</th>\n",
              "      <th>veil-type</th>\n",
              "      <th>veil-color</th>\n",
              "      <th>ring-number</th>\n",
              "      <th>ring-type</th>\n",
              "      <th>spore-print-color</th>\n",
              "      <th>population</th>\n",
              "      <th>habitat</th>\n",
              "    </tr>\n",
              "  </thead>\n",
              "  <tbody>\n",
              "    <tr>\n",
              "      <th>count</th>\n",
              "      <td>8124</td>\n",
              "      <td>8124</td>\n",
              "      <td>8124</td>\n",
              "      <td>8124</td>\n",
              "      <td>8124</td>\n",
              "      <td>8124</td>\n",
              "      <td>8124</td>\n",
              "      <td>8124</td>\n",
              "      <td>8124</td>\n",
              "      <td>8124</td>\n",
              "      <td>8124</td>\n",
              "      <td>8124</td>\n",
              "      <td>8124</td>\n",
              "      <td>8124</td>\n",
              "      <td>8124</td>\n",
              "      <td>8124</td>\n",
              "      <td>8124</td>\n",
              "      <td>8124</td>\n",
              "      <td>8124</td>\n",
              "      <td>8124</td>\n",
              "      <td>8124</td>\n",
              "      <td>8124</td>\n",
              "      <td>8124</td>\n",
              "    </tr>\n",
              "    <tr>\n",
              "      <th>unique</th>\n",
              "      <td>2</td>\n",
              "      <td>6</td>\n",
              "      <td>4</td>\n",
              "      <td>10</td>\n",
              "      <td>2</td>\n",
              "      <td>9</td>\n",
              "      <td>2</td>\n",
              "      <td>2</td>\n",
              "      <td>2</td>\n",
              "      <td>12</td>\n",
              "      <td>2</td>\n",
              "      <td>5</td>\n",
              "      <td>4</td>\n",
              "      <td>4</td>\n",
              "      <td>9</td>\n",
              "      <td>9</td>\n",
              "      <td>1</td>\n",
              "      <td>4</td>\n",
              "      <td>3</td>\n",
              "      <td>5</td>\n",
              "      <td>9</td>\n",
              "      <td>6</td>\n",
              "      <td>7</td>\n",
              "    </tr>\n",
              "    <tr>\n",
              "      <th>top</th>\n",
              "      <td>e</td>\n",
              "      <td>x</td>\n",
              "      <td>y</td>\n",
              "      <td>n</td>\n",
              "      <td>f</td>\n",
              "      <td>n</td>\n",
              "      <td>f</td>\n",
              "      <td>c</td>\n",
              "      <td>b</td>\n",
              "      <td>b</td>\n",
              "      <td>t</td>\n",
              "      <td>b</td>\n",
              "      <td>s</td>\n",
              "      <td>s</td>\n",
              "      <td>w</td>\n",
              "      <td>w</td>\n",
              "      <td>p</td>\n",
              "      <td>w</td>\n",
              "      <td>o</td>\n",
              "      <td>p</td>\n",
              "      <td>w</td>\n",
              "      <td>v</td>\n",
              "      <td>d</td>\n",
              "    </tr>\n",
              "    <tr>\n",
              "      <th>freq</th>\n",
              "      <td>4208</td>\n",
              "      <td>3656</td>\n",
              "      <td>3244</td>\n",
              "      <td>2284</td>\n",
              "      <td>4748</td>\n",
              "      <td>3528</td>\n",
              "      <td>7914</td>\n",
              "      <td>6812</td>\n",
              "      <td>5612</td>\n",
              "      <td>1728</td>\n",
              "      <td>4608</td>\n",
              "      <td>3776</td>\n",
              "      <td>5176</td>\n",
              "      <td>4936</td>\n",
              "      <td>4464</td>\n",
              "      <td>4384</td>\n",
              "      <td>8124</td>\n",
              "      <td>7924</td>\n",
              "      <td>7488</td>\n",
              "      <td>3968</td>\n",
              "      <td>2388</td>\n",
              "      <td>4040</td>\n",
              "      <td>3148</td>\n",
              "    </tr>\n",
              "  </tbody>\n",
              "</table>\n",
              "</div>"
            ],
            "text/plain": [
              "       class cap-shape cap-surface  ... spore-print-color population habitat\n",
              "count   8124      8124        8124  ...              8124       8124    8124\n",
              "unique     2         6           4  ...                 9          6       7\n",
              "top        e         x           y  ...                 w          v       d\n",
              "freq    4208      3656        3244  ...              2388       4040    3148\n",
              "\n",
              "[4 rows x 23 columns]"
            ]
          },
          "metadata": {
            "tags": []
          },
          "execution_count": 6
        }
      ]
    },
    {
      "cell_type": "code",
      "metadata": {
        "id": "bzo3zuUhooey",
        "colab_type": "code",
        "colab": {
          "base_uri": "https://localhost:8080/",
          "height": 275
        },
        "outputId": "8781de69-7d57-4f3d-dbff-7f2483015c22"
      },
      "source": [
        "from sklearn.preprocessing import LabelEncoder\n",
        "labelEncoder = LabelEncoder()\n",
        "for column in dataset.columns:\n",
        "  dataset[column]=labelEncoder.fit_transform(dataset[column])\n",
        "dataset.head()"
      ],
      "execution_count": null,
      "outputs": [
        {
          "output_type": "execute_result",
          "data": {
            "text/html": [
              "<div>\n",
              "<style scoped>\n",
              "    .dataframe tbody tr th:only-of-type {\n",
              "        vertical-align: middle;\n",
              "    }\n",
              "\n",
              "    .dataframe tbody tr th {\n",
              "        vertical-align: top;\n",
              "    }\n",
              "\n",
              "    .dataframe thead th {\n",
              "        text-align: right;\n",
              "    }\n",
              "</style>\n",
              "<table border=\"1\" class=\"dataframe\">\n",
              "  <thead>\n",
              "    <tr style=\"text-align: right;\">\n",
              "      <th></th>\n",
              "      <th>class</th>\n",
              "      <th>cap-shape</th>\n",
              "      <th>cap-surface</th>\n",
              "      <th>cap-color</th>\n",
              "      <th>bruises</th>\n",
              "      <th>odor</th>\n",
              "      <th>gill-attachment</th>\n",
              "      <th>gill-spacing</th>\n",
              "      <th>gill-size</th>\n",
              "      <th>gill-color</th>\n",
              "      <th>stalk-shape</th>\n",
              "      <th>stalk-root</th>\n",
              "      <th>stalk-surface-above-ring</th>\n",
              "      <th>stalk-surface-below-ring</th>\n",
              "      <th>stalk-color-above-ring</th>\n",
              "      <th>stalk-color-below-ring</th>\n",
              "      <th>veil-type</th>\n",
              "      <th>veil-color</th>\n",
              "      <th>ring-number</th>\n",
              "      <th>ring-type</th>\n",
              "      <th>spore-print-color</th>\n",
              "      <th>population</th>\n",
              "      <th>habitat</th>\n",
              "    </tr>\n",
              "  </thead>\n",
              "  <tbody>\n",
              "    <tr>\n",
              "      <th>0</th>\n",
              "      <td>1</td>\n",
              "      <td>5</td>\n",
              "      <td>2</td>\n",
              "      <td>4</td>\n",
              "      <td>1</td>\n",
              "      <td>6</td>\n",
              "      <td>1</td>\n",
              "      <td>0</td>\n",
              "      <td>1</td>\n",
              "      <td>4</td>\n",
              "      <td>0</td>\n",
              "      <td>3</td>\n",
              "      <td>2</td>\n",
              "      <td>2</td>\n",
              "      <td>7</td>\n",
              "      <td>7</td>\n",
              "      <td>0</td>\n",
              "      <td>2</td>\n",
              "      <td>1</td>\n",
              "      <td>4</td>\n",
              "      <td>2</td>\n",
              "      <td>3</td>\n",
              "      <td>5</td>\n",
              "    </tr>\n",
              "    <tr>\n",
              "      <th>1</th>\n",
              "      <td>0</td>\n",
              "      <td>5</td>\n",
              "      <td>2</td>\n",
              "      <td>9</td>\n",
              "      <td>1</td>\n",
              "      <td>0</td>\n",
              "      <td>1</td>\n",
              "      <td>0</td>\n",
              "      <td>0</td>\n",
              "      <td>4</td>\n",
              "      <td>0</td>\n",
              "      <td>2</td>\n",
              "      <td>2</td>\n",
              "      <td>2</td>\n",
              "      <td>7</td>\n",
              "      <td>7</td>\n",
              "      <td>0</td>\n",
              "      <td>2</td>\n",
              "      <td>1</td>\n",
              "      <td>4</td>\n",
              "      <td>3</td>\n",
              "      <td>2</td>\n",
              "      <td>1</td>\n",
              "    </tr>\n",
              "    <tr>\n",
              "      <th>2</th>\n",
              "      <td>0</td>\n",
              "      <td>0</td>\n",
              "      <td>2</td>\n",
              "      <td>8</td>\n",
              "      <td>1</td>\n",
              "      <td>3</td>\n",
              "      <td>1</td>\n",
              "      <td>0</td>\n",
              "      <td>0</td>\n",
              "      <td>5</td>\n",
              "      <td>0</td>\n",
              "      <td>2</td>\n",
              "      <td>2</td>\n",
              "      <td>2</td>\n",
              "      <td>7</td>\n",
              "      <td>7</td>\n",
              "      <td>0</td>\n",
              "      <td>2</td>\n",
              "      <td>1</td>\n",
              "      <td>4</td>\n",
              "      <td>3</td>\n",
              "      <td>2</td>\n",
              "      <td>3</td>\n",
              "    </tr>\n",
              "    <tr>\n",
              "      <th>3</th>\n",
              "      <td>1</td>\n",
              "      <td>5</td>\n",
              "      <td>3</td>\n",
              "      <td>8</td>\n",
              "      <td>1</td>\n",
              "      <td>6</td>\n",
              "      <td>1</td>\n",
              "      <td>0</td>\n",
              "      <td>1</td>\n",
              "      <td>5</td>\n",
              "      <td>0</td>\n",
              "      <td>3</td>\n",
              "      <td>2</td>\n",
              "      <td>2</td>\n",
              "      <td>7</td>\n",
              "      <td>7</td>\n",
              "      <td>0</td>\n",
              "      <td>2</td>\n",
              "      <td>1</td>\n",
              "      <td>4</td>\n",
              "      <td>2</td>\n",
              "      <td>3</td>\n",
              "      <td>5</td>\n",
              "    </tr>\n",
              "    <tr>\n",
              "      <th>4</th>\n",
              "      <td>0</td>\n",
              "      <td>5</td>\n",
              "      <td>2</td>\n",
              "      <td>3</td>\n",
              "      <td>0</td>\n",
              "      <td>5</td>\n",
              "      <td>1</td>\n",
              "      <td>1</td>\n",
              "      <td>0</td>\n",
              "      <td>4</td>\n",
              "      <td>1</td>\n",
              "      <td>3</td>\n",
              "      <td>2</td>\n",
              "      <td>2</td>\n",
              "      <td>7</td>\n",
              "      <td>7</td>\n",
              "      <td>0</td>\n",
              "      <td>2</td>\n",
              "      <td>1</td>\n",
              "      <td>0</td>\n",
              "      <td>3</td>\n",
              "      <td>0</td>\n",
              "      <td>1</td>\n",
              "    </tr>\n",
              "  </tbody>\n",
              "</table>\n",
              "</div>"
            ],
            "text/plain": [
              "   class  cap-shape  cap-surface  ...  spore-print-color  population  habitat\n",
              "0      1          5            2  ...                  2           3        5\n",
              "1      0          5            2  ...                  3           2        1\n",
              "2      0          0            2  ...                  3           2        3\n",
              "3      1          5            3  ...                  2           3        5\n",
              "4      0          5            2  ...                  3           0        1\n",
              "\n",
              "[5 rows x 23 columns]"
            ]
          },
          "metadata": {
            "tags": []
          },
          "execution_count": 7
        }
      ]
    },
    {
      "cell_type": "code",
      "metadata": {
        "id": "PVjRGgjjpDym",
        "colab_type": "code",
        "colab": {
          "base_uri": "https://localhost:8080/",
          "height": 119
        },
        "outputId": "60b92719-ba90-4323-fd25-c36851ea47be"
      },
      "source": [
        "X = dataset.drop(['population','veil-type','gill-attachment','ring-number','class'],axis=1)\n",
        "Y = dataset['class']\n",
        "X.columns"
      ],
      "execution_count": null,
      "outputs": [
        {
          "output_type": "execute_result",
          "data": {
            "text/plain": [
              "Index(['cap-shape', 'cap-surface', 'cap-color', 'bruises', 'odor',\n",
              "       'gill-spacing', 'gill-size', 'gill-color', 'stalk-shape', 'stalk-root',\n",
              "       'stalk-surface-above-ring', 'stalk-surface-below-ring',\n",
              "       'stalk-color-above-ring', 'stalk-color-below-ring', 'veil-color',\n",
              "       'ring-type', 'spore-print-color', 'habitat'],\n",
              "      dtype='object')"
            ]
          },
          "metadata": {
            "tags": []
          },
          "execution_count": 8
        }
      ]
    },
    {
      "cell_type": "code",
      "metadata": {
        "id": "JOaP1nqpphyx",
        "colab_type": "code",
        "colab": {
          "base_uri": "https://localhost:8080/",
          "height": 34
        },
        "outputId": "95a27318-6c47-42f8-ceb9-31dceea92b3d"
      },
      "source": [
        "from sklearn.model_selection import train_test_split\n",
        "X_train,X_test,Y_train,Y_test = train_test_split(X,Y,test_size=0.25,random_state=1)\n",
        "X_train.shape,X_test.shape"
      ],
      "execution_count": null,
      "outputs": [
        {
          "output_type": "execute_result",
          "data": {
            "text/plain": [
              "((6093, 18), (2031, 18))"
            ]
          },
          "metadata": {
            "tags": []
          },
          "execution_count": 9
        }
      ]
    },
    {
      "cell_type": "code",
      "metadata": {
        "id": "xbtoezjqmVQ2",
        "colab_type": "code",
        "colab": {
          "base_uri": "https://localhost:8080/",
          "height": 119
        },
        "outputId": "dc38fe80-8bfe-4bfa-9ca7-81cde43c7df1"
      },
      "source": [
        "from sklearn.tree import DecisionTreeClassifier\n",
        "classifier = DecisionTreeClassifier(\n",
        "    criterion = 'gini',\n",
        "    max_depth = 10,\n",
        "    min_samples_split = 10,\n",
        "    min_samples_leaf = 10,\n",
        "    max_features = 0.7,\n",
        "    random_state = 42\n",
        ")\n",
        "\n",
        "classifier.fit(X_train, Y_train)"
      ],
      "execution_count": null,
      "outputs": [
        {
          "output_type": "execute_result",
          "data": {
            "text/plain": [
              "DecisionTreeClassifier(ccp_alpha=0.0, class_weight=None, criterion='gini',\n",
              "                       max_depth=10, max_features=0.7, max_leaf_nodes=None,\n",
              "                       min_impurity_decrease=0.0, min_impurity_split=None,\n",
              "                       min_samples_leaf=10, min_samples_split=10,\n",
              "                       min_weight_fraction_leaf=0.0, presort='deprecated',\n",
              "                       random_state=42, splitter='best')"
            ]
          },
          "metadata": {
            "tags": []
          },
          "execution_count": 10
        }
      ]
    },
    {
      "cell_type": "code",
      "metadata": {
        "id": "bFqbs-jMm3Hd",
        "colab_type": "code",
        "colab": {
          "base_uri": "https://localhost:8080/",
          "height": 265
        },
        "outputId": "4cfea6fd-4604-4048-80db-ced8487b3b85"
      },
      "source": [
        "from sklearn.metrics import confusion_matrix\n",
        "y_pred = classifier.predict(X_test)\n",
        "cm = confusion_matrix(Y_test,y_pred)\n",
        "sns.heatmap(cm,annot=True,fmt='d',cbar=False,cmap='Blues')\n",
        "plt.show()"
      ],
      "execution_count": null,
      "outputs": [
        {
          "output_type": "display_data",
          "data": {
            "image/png": "[encoded data removed]",
            "text/plain": [
              "<Figure size 432x288 with 1 Axes>"
            ]
          },
          "metadata": {
            "tags": []
          }
        }
      ]
    },
    {
      "cell_type": "code",
      "metadata": {
        "id": "4sVhqKCMuZV0",
        "colab_type": "code",
        "colab": {
          "base_uri": "https://localhost:8080/",
          "height": 102
        },
        "outputId": "8db6951b-9f99-4399-a80e-aea7bfbdbe5c"
      },
      "source": [
        "from sklearn.model_selection import GridSearchCV\n",
        "param_grid = [{'criterion':['gini','entropy'],\n",
        "               'max_depth':[5,7,10,15,20],\n",
        "               'min_samples_leaf':[2,5,15,20],\n",
        "               'min_samples_split':[2,5,10,15],\n",
        "               'max_features':[0.3,0.5,0.7,1]}]\n",
        "\n",
        "classifier = DecisionTreeClassifier()\n",
        "grid_search = GridSearchCV(classifier,param_grid,cv=5,n_jobs=-1)\n",
        "grid_search.fit(X_train,Y_train)\n",
        "grid_search.best_params_"
      ],
      "execution_count": null,
      "outputs": [
        {
          "output_type": "execute_result",
          "data": {
            "text/plain": [
              "{'criterion': 'gini',\n",
              " 'max_depth': 10,\n",
              " 'max_features': 0.5,\n",
              " 'min_samples_leaf': 2,\n",
              " 'min_samples_split': 5}"
            ]
          },
          "metadata": {
            "tags": []
          },
          "execution_count": 12
        }
      ]
    },
    {
      "cell_type": "code",
      "metadata": {
        "id": "iCqnHP0KzZuW",
        "colab_type": "code",
        "colab": {
          "base_uri": "https://localhost:8080/",
          "height": 119
        },
        "outputId": "25273dbf-46bf-47c0-c88a-903d249534c5"
      },
      "source": [
        "classifier = DecisionTreeClassifier(**grid_search.best_params_)\n",
        "classifier.fit(X_train, Y_train)"
      ],
      "execution_count": null,
      "outputs": [
        {
          "output_type": "execute_result",
          "data": {
            "text/plain": [
              "DecisionTreeClassifier(ccp_alpha=0.0, class_weight=None, criterion='gini',\n",
              "                       max_depth=10, max_features=0.5, max_leaf_nodes=None,\n",
              "                       min_impurity_decrease=0.0, min_impurity_split=None,\n",
              "                       min_samples_leaf=2, min_samples_split=5,\n",
              "                       min_weight_fraction_leaf=0.0, presort='deprecated',\n",
              "                       random_state=None, splitter='best')"
            ]
          },
          "metadata": {
            "tags": []
          },
          "execution_count": 13
        }
      ]
    },
    {
      "cell_type": "code",
      "metadata": {
        "id": "T_S7tBBKwG_f",
        "colab_type": "code",
        "colab": {}
      },
      "source": [
        "from sklearn.tree import DecisionTreeClassifier, export_graphviz\n",
        "import graphviz\n",
        "dot_data = export_graphviz(\n",
        "    classifier,out_file=None,\n",
        "    feature_names=X_train.columns,\n",
        "    filled=True , rounded=True,\n",
        "    special_characters=True\n",
        ")"
      ],
      "execution_count": null,
      "outputs": []
    },
    {
      "cell_type": "code",
      "metadata": {
        "id": "LuffJDf_ues2",
        "colab_type": "code",
        "colab": {
          "base_uri": "https://localhost:8080/",
          "height": 1000
        },
        "outputId": "3eed8dfd-ca2d-41d5-be8a-d070155e81ba"
      },
      "source": [
        "graph = graphviz.Source(dot_data)\n",
        "graph"
      ],
      "execution_count": null,
      "outputs": [
        {
          "output_type": "execute_result",
          "data": {
            "text/plain": [
              "<graphviz.files.Source at 0x7f25198abcf8>"
            ],
            "image/svg+xml": "<?xml version=\"1.0\" encoding=\"UTF-8\" standalone=\"no\"?>\n<!DOCTYPE svg PUBLIC \"-//W3C//DTD SVG 1.1//EN\"\n \"http://www.w3.org/Graphics/SVG/1.1/DTD/svg11.dtd\">\n<!-- Generated by graphviz version 2.40.1 (20161225.0304)\n -->\n<!-- Title: Tree Pages: 1 -->\n<svg width=\"1540pt\" height=\"893pt\"\n viewBox=\"0.00 0.00 1539.50 893.00\" xmlns=\"http://www.w3.org/2000/svg\" xmlns:xlink=\"http://www.w3.org/1999/xlink\">\n<g id=\"graph0\" class=\"graph\" transform=\"scale(1 1) rotate(0) translate(4 889)\">\n<title>Tree</title>\n<polygon fill=\"#ffffff\" stroke=\"transparent\" points=\"-4,4 -4,-889 1535.5,-889 1535.5,4 -4,4\"/>\n<!-- 0 -->\n<g id=\"node1\" class=\"node\">\n<title>0</title>\n<path fill=\"#fdf4ed\" stroke=\"#000000\" d=\"M831,-885C831,-885 706,-885 706,-885 700,-885 694,-879 694,-873 694,-873 694,-829 694,-829 694,-823 700,-817 706,-817 706,-817 831,-817 831,-817 837,-817 843,-823 843,-829 843,-829 843,-873 843,-873 843,-879 837,-885 831,-885\"/>\n<text text-anchor=\"start\" x=\"724\" y=\"-869.8\" font-family=\"Helvetica,sans-Serif\" font-size=\"14.00\" fill=\"#000000\">gill&#45;color ≤ 3.5</text>\n<text text-anchor=\"start\" x=\"730.5\" y=\"-854.8\" font-family=\"Helvetica,sans-Serif\" font-size=\"14.00\" fill=\"#000000\">gini = 0.499</text>\n<text text-anchor=\"start\" x=\"716.5\" y=\"-839.8\" font-family=\"Helvetica,sans-Serif\" font-size=\"14.00\" fill=\"#000000\">samples = 6093</text>\n<text text-anchor=\"start\" x=\"702\" y=\"-824.8\" font-family=\"Helvetica,sans-Serif\" font-size=\"14.00\" fill=\"#000000\">value = [3188, 2905]</text>\n</g>\n<!-- 1 -->\n<g id=\"node2\" class=\"node\">\n<title>1</title>\n<path fill=\"#61b1ea\" stroke=\"#000000\" d=\"M736.5,-781C736.5,-781 620.5,-781 620.5,-781 614.5,-781 608.5,-775 608.5,-769 608.5,-769 608.5,-725 608.5,-725 608.5,-719 614.5,-713 620.5,-713 620.5,-713 736.5,-713 736.5,-713 742.5,-713 748.5,-719 748.5,-725 748.5,-725 748.5,-769 748.5,-769 748.5,-775 742.5,-781 736.5,-781\"/>\n<text text-anchor=\"start\" x=\"631\" y=\"-765.8\" font-family=\"Helvetica,sans-Serif\" font-size=\"14.00\" fill=\"#000000\">stalk&#45;root ≤ 1.5</text>\n<text text-anchor=\"start\" x=\"640.5\" y=\"-750.8\" font-family=\"Helvetica,sans-Serif\" font-size=\"14.00\" fill=\"#000000\">gini = 0.279</text>\n<text text-anchor=\"start\" x=\"626.5\" y=\"-735.8\" font-family=\"Helvetica,sans-Serif\" font-size=\"14.00\" fill=\"#000000\">samples = 2447</text>\n<text text-anchor=\"start\" x=\"616.5\" y=\"-720.8\" font-family=\"Helvetica,sans-Serif\" font-size=\"14.00\" fill=\"#000000\">value = [410, 2037]</text>\n</g>\n<!-- 0&#45;&gt;1 -->\n<g id=\"edge1\" class=\"edge\">\n<title>0&#45;&gt;1</title>\n<path fill=\"none\" stroke=\"#000000\" d=\"M739.0306,-816.9465C731.2607,-807.968 722.7868,-798.1758 714.7064,-788.8385\"/>\n<polygon fill=\"#000000\" stroke=\"#000000\" points=\"717.226,-786.4014 708.0356,-781.13 711.9328,-790.982 717.226,-786.4014\"/>\n<text text-anchor=\"middle\" x=\"706.2361\" y=\"-802.3652\" font-family=\"Helvetica,sans-Serif\" font-size=\"14.00\" fill=\"#000000\">True</text>\n</g>\n<!-- 14 -->\n<g id=\"node15\" class=\"node\">\n<title>14</title>\n<path fill=\"#eda877\" stroke=\"#000000\" d=\"M916.5,-781C916.5,-781 800.5,-781 800.5,-781 794.5,-781 788.5,-775 788.5,-769 788.5,-769 788.5,-725 788.5,-725 788.5,-719 794.5,-713 800.5,-713 800.5,-713 916.5,-713 916.5,-713 922.5,-713 928.5,-719 928.5,-725 928.5,-725 928.5,-769 928.5,-769 928.5,-775 922.5,-781 916.5,-781\"/>\n<text text-anchor=\"start\" x=\"803\" y=\"-765.8\" font-family=\"Helvetica,sans-Serif\" font-size=\"14.00\" fill=\"#000000\">stalk&#45;shape ≤ 0.5</text>\n<text text-anchor=\"start\" x=\"820.5\" y=\"-750.8\" font-family=\"Helvetica,sans-Serif\" font-size=\"14.00\" fill=\"#000000\">gini = 0.363</text>\n<text text-anchor=\"start\" x=\"806.5\" y=\"-735.8\" font-family=\"Helvetica,sans-Serif\" font-size=\"14.00\" fill=\"#000000\">samples = 3646</text>\n<text text-anchor=\"start\" x=\"796.5\" y=\"-720.8\" font-family=\"Helvetica,sans-Serif\" font-size=\"14.00\" fill=\"#000000\">value = [2778, 868]</text>\n</g>\n<!-- 0&#45;&gt;14 -->\n<g id=\"edge14\" class=\"edge\">\n<title>0&#45;&gt;14</title>\n<path fill=\"none\" stroke=\"#000000\" d=\"M797.9694,-816.9465C805.7393,-807.968 814.2132,-798.1758 822.2936,-788.8385\"/>\n<polygon fill=\"#000000\" stroke=\"#000000\" points=\"825.0672,-790.982 828.9644,-781.13 819.774,-786.4014 825.0672,-790.982\"/>\n<text text-anchor=\"middle\" x=\"830.7639\" y=\"-802.3652\" font-family=\"Helvetica,sans-Serif\" font-size=\"14.00\" fill=\"#000000\">False</text>\n</g>\n<!-- 2 -->\n<g id=\"node3\" class=\"node\">\n<title>2</title>\n<path fill=\"#48a5e7\" stroke=\"#000000\" d=\"M590.5,-677C590.5,-677 474.5,-677 474.5,-677 468.5,-677 462.5,-671 462.5,-665 462.5,-665 462.5,-621 462.5,-621 462.5,-615 468.5,-609 474.5,-609 474.5,-609 590.5,-609 590.5,-609 596.5,-609 602.5,-615 602.5,-621 602.5,-621 602.5,-665 602.5,-665 602.5,-671 596.5,-677 590.5,-677\"/>\n<text text-anchor=\"start\" x=\"493\" y=\"-661.8\" font-family=\"Helvetica,sans-Serif\" font-size=\"14.00\" fill=\"#000000\">habitat ≤ 5.5</text>\n<text text-anchor=\"start\" x=\"494.5\" y=\"-646.8\" font-family=\"Helvetica,sans-Serif\" font-size=\"14.00\" fill=\"#000000\">gini = 0.132</text>\n<text text-anchor=\"start\" x=\"480.5\" y=\"-631.8\" font-family=\"Helvetica,sans-Serif\" font-size=\"14.00\" fill=\"#000000\">samples = 2193</text>\n<text text-anchor=\"start\" x=\"470.5\" y=\"-616.8\" font-family=\"Helvetica,sans-Serif\" font-size=\"14.00\" fill=\"#000000\">value = [156, 2037]</text>\n</g>\n<!-- 1&#45;&gt;2 -->\n<g id=\"edge2\" class=\"edge\">\n<title>1&#45;&gt;2</title>\n<path fill=\"none\" stroke=\"#000000\" d=\"M630.6941,-712.9465C617.3334,-703.4293 602.6893,-692.9978 588.8826,-683.163\"/>\n<polygon fill=\"#000000\" stroke=\"#000000\" points=\"590.5888,-680.0811 580.4133,-677.13 586.5275,-685.7826 590.5888,-680.0811\"/>\n</g>\n<!-- 13 -->\n<g id=\"node14\" class=\"node\">\n<title>13</title>\n<path fill=\"#e58139\" stroke=\"#000000\" d=\"M724.5,-669.5C724.5,-669.5 632.5,-669.5 632.5,-669.5 626.5,-669.5 620.5,-663.5 620.5,-657.5 620.5,-657.5 620.5,-628.5 620.5,-628.5 620.5,-622.5 626.5,-616.5 632.5,-616.5 632.5,-616.5 724.5,-616.5 724.5,-616.5 730.5,-616.5 736.5,-622.5 736.5,-628.5 736.5,-628.5 736.5,-657.5 736.5,-657.5 736.5,-663.5 730.5,-669.5 724.5,-669.5\"/>\n<text text-anchor=\"start\" x=\"649\" y=\"-654.3\" font-family=\"Helvetica,sans-Serif\" font-size=\"14.00\" fill=\"#000000\">gini = 0.0</text>\n<text text-anchor=\"start\" x=\"630.5\" y=\"-639.3\" font-family=\"Helvetica,sans-Serif\" font-size=\"14.00\" fill=\"#000000\">samples = 254</text>\n<text text-anchor=\"start\" x=\"628.5\" y=\"-624.3\" font-family=\"Helvetica,sans-Serif\" font-size=\"14.00\" fill=\"#000000\">value = [254, 0]</text>\n</g>\n<!-- 1&#45;&gt;13 -->\n<g id=\"edge13\" class=\"edge\">\n<title>1&#45;&gt;13</title>\n<path fill=\"none\" stroke=\"#000000\" d=\"M678.5,-712.9465C678.5,-702.2621 678.5,-690.4254 678.5,-679.5742\"/>\n<polygon fill=\"#000000\" stroke=\"#000000\" points=\"682.0001,-679.5421 678.5,-669.5422 675.0001,-679.5422 682.0001,-679.5421\"/>\n</g>\n<!-- 3 -->\n<g id=\"node4\" class=\"node\">\n<title>3</title>\n<path fill=\"#41a1e6\" stroke=\"#000000\" d=\"M459.5,-573C459.5,-573 351.5,-573 351.5,-573 345.5,-573 339.5,-567 339.5,-561 339.5,-561 339.5,-517 339.5,-517 339.5,-511 345.5,-505 351.5,-505 351.5,-505 459.5,-505 459.5,-505 465.5,-505 471.5,-511 471.5,-517 471.5,-517 471.5,-561 471.5,-561 471.5,-567 465.5,-573 459.5,-573\"/>\n<text text-anchor=\"start\" x=\"351\" y=\"-557.8\" font-family=\"Helvetica,sans-Serif\" font-size=\"14.00\" fill=\"#000000\">gill&#45;spacing ≤ 0.5</text>\n<text text-anchor=\"start\" x=\"367.5\" y=\"-542.8\" font-family=\"Helvetica,sans-Serif\" font-size=\"14.00\" fill=\"#000000\">gini = 0.075</text>\n<text text-anchor=\"start\" x=\"353.5\" y=\"-527.8\" font-family=\"Helvetica,sans-Serif\" font-size=\"14.00\" fill=\"#000000\">samples = 2120</text>\n<text text-anchor=\"start\" x=\"347.5\" y=\"-512.8\" font-family=\"Helvetica,sans-Serif\" font-size=\"14.00\" fill=\"#000000\">value = [83, 2037]</text>\n</g>\n<!-- 2&#45;&gt;3 -->\n<g id=\"edge3\" class=\"edge\">\n<title>2&#45;&gt;3</title>\n<path fill=\"none\" stroke=\"#000000\" d=\"M490.9155,-608.9465C479.5127,-599.6088 467.0353,-589.3911 455.2257,-579.7203\"/>\n<polygon fill=\"#000000\" stroke=\"#000000\" points=\"457.1324,-576.7578 447.178,-573.13 452.6974,-582.1736 457.1324,-576.7578\"/>\n</g>\n<!-- 12 -->\n<g id=\"node13\" class=\"node\">\n<title>12</title>\n<path fill=\"#e58139\" stroke=\"#000000\" d=\"M585,-565.5C585,-565.5 502,-565.5 502,-565.5 496,-565.5 490,-559.5 490,-553.5 490,-553.5 490,-524.5 490,-524.5 490,-518.5 496,-512.5 502,-512.5 502,-512.5 585,-512.5 585,-512.5 591,-512.5 597,-518.5 597,-524.5 597,-524.5 597,-553.5 597,-553.5 597,-559.5 591,-565.5 585,-565.5\"/>\n<text text-anchor=\"start\" x=\"514\" y=\"-550.3\" font-family=\"Helvetica,sans-Serif\" font-size=\"14.00\" fill=\"#000000\">gini = 0.0</text>\n<text text-anchor=\"start\" x=\"499.5\" y=\"-535.3\" font-family=\"Helvetica,sans-Serif\" font-size=\"14.00\" fill=\"#000000\">samples = 73</text>\n<text text-anchor=\"start\" x=\"498\" y=\"-520.3\" font-family=\"Helvetica,sans-Serif\" font-size=\"14.00\" fill=\"#000000\">value = [73, 0]</text>\n</g>\n<!-- 2&#45;&gt;12 -->\n<g id=\"edge12\" class=\"edge\">\n<title>2&#45;&gt;12</title>\n<path fill=\"none\" stroke=\"#000000\" d=\"M536.1018,-608.9465C537.2319,-598.2621 538.4838,-586.4254 539.6316,-575.5742\"/>\n<polygon fill=\"#000000\" stroke=\"#000000\" points=\"543.1213,-575.8549 540.6927,-565.5422 536.1602,-575.1185 543.1213,-575.8549\"/>\n</g>\n<!-- 4 -->\n<g id=\"node5\" class=\"node\">\n<title>4</title>\n<path fill=\"#3a9de5\" stroke=\"#000000\" d=\"M332.5,-469C332.5,-469 150.5,-469 150.5,-469 144.5,-469 138.5,-463 138.5,-457 138.5,-457 138.5,-413 138.5,-413 138.5,-407 144.5,-401 150.5,-401 150.5,-401 332.5,-401 332.5,-401 338.5,-401 344.5,-407 344.5,-413 344.5,-413 344.5,-457 344.5,-457 344.5,-463 338.5,-469 332.5,-469\"/>\n<text text-anchor=\"start\" x=\"146.5\" y=\"-453.8\" font-family=\"Helvetica,sans-Serif\" font-size=\"14.00\" fill=\"#000000\">stalk&#45;surface&#45;below&#45;ring ≤ 0.5</text>\n<text text-anchor=\"start\" x=\"208\" y=\"-438.8\" font-family=\"Helvetica,sans-Serif\" font-size=\"14.00\" fill=\"#000000\">gini = 0.01</text>\n<text text-anchor=\"start\" x=\"189.5\" y=\"-423.8\" font-family=\"Helvetica,sans-Serif\" font-size=\"14.00\" fill=\"#000000\">samples = 2029</text>\n<text text-anchor=\"start\" x=\"183.5\" y=\"-408.8\" font-family=\"Helvetica,sans-Serif\" font-size=\"14.00\" fill=\"#000000\">value = [10, 2019]</text>\n</g>\n<!-- 3&#45;&gt;4 -->\n<g id=\"edge4\" class=\"edge\">\n<title>3&#45;&gt;4</title>\n<path fill=\"none\" stroke=\"#000000\" d=\"M351.8003,-504.9465C336.5091,-495.2497 319.7215,-484.6039 303.9571,-474.6069\"/>\n<polygon fill=\"#000000\" stroke=\"#000000\" points=\"305.6399,-471.5297 295.3204,-469.13 301.8911,-477.4412 305.6399,-471.5297\"/>\n</g>\n<!-- 9 -->\n<g id=\"node10\" class=\"node\">\n<title>9</title>\n<path fill=\"#eba06a\" stroke=\"#000000\" d=\"M466.5,-469C466.5,-469 374.5,-469 374.5,-469 368.5,-469 362.5,-463 362.5,-457 362.5,-457 362.5,-413 362.5,-413 362.5,-407 368.5,-401 374.5,-401 374.5,-401 466.5,-401 466.5,-401 472.5,-401 478.5,-407 478.5,-413 478.5,-413 478.5,-457 478.5,-457 478.5,-463 472.5,-469 466.5,-469\"/>\n<text text-anchor=\"start\" x=\"381\" y=\"-453.8\" font-family=\"Helvetica,sans-Serif\" font-size=\"14.00\" fill=\"#000000\">habitat ≤ 0.5</text>\n<text text-anchor=\"start\" x=\"382.5\" y=\"-438.8\" font-family=\"Helvetica,sans-Serif\" font-size=\"14.00\" fill=\"#000000\">gini = 0.317</text>\n<text text-anchor=\"start\" x=\"376.5\" y=\"-423.8\" font-family=\"Helvetica,sans-Serif\" font-size=\"14.00\" fill=\"#000000\">samples = 91</text>\n<text text-anchor=\"start\" x=\"370.5\" y=\"-408.8\" font-family=\"Helvetica,sans-Serif\" font-size=\"14.00\" fill=\"#000000\">value = [73, 18]</text>\n</g>\n<!-- 3&#45;&gt;9 -->\n<g id=\"edge9\" class=\"edge\">\n<title>3&#45;&gt;9</title>\n<path fill=\"none\" stroke=\"#000000\" d=\"M410.4116,-504.9465C411.6029,-496.6863 412.8937,-487.7374 414.1412,-479.0875\"/>\n<polygon fill=\"#000000\" stroke=\"#000000\" points=\"417.6139,-479.5272 415.5774,-469.13 410.6856,-478.5279 417.6139,-479.5272\"/>\n</g>\n<!-- 5 -->\n<g id=\"node6\" class=\"node\">\n<title>5</title>\n<path fill=\"#75bbed\" stroke=\"#000000\" d=\"M161.5,-365C161.5,-365 69.5,-365 69.5,-365 63.5,-365 57.5,-359 57.5,-353 57.5,-353 57.5,-309 57.5,-309 57.5,-303 63.5,-297 69.5,-297 69.5,-297 161.5,-297 161.5,-297 167.5,-297 173.5,-303 173.5,-309 173.5,-309 173.5,-353 173.5,-353 173.5,-359 167.5,-365 161.5,-365\"/>\n<text text-anchor=\"start\" x=\"69.5\" y=\"-349.8\" font-family=\"Helvetica,sans-Serif\" font-size=\"14.00\" fill=\"#000000\">ring&#45;type ≤ 2.5</text>\n<text text-anchor=\"start\" x=\"77.5\" y=\"-334.8\" font-family=\"Helvetica,sans-Serif\" font-size=\"14.00\" fill=\"#000000\">gini = 0.357</text>\n<text text-anchor=\"start\" x=\"71.5\" y=\"-319.8\" font-family=\"Helvetica,sans-Serif\" font-size=\"14.00\" fill=\"#000000\">samples = 43</text>\n<text text-anchor=\"start\" x=\"65.5\" y=\"-304.8\" font-family=\"Helvetica,sans-Serif\" font-size=\"14.00\" fill=\"#000000\">value = [10, 33]</text>\n</g>\n<!-- 4&#45;&gt;5 -->\n<g id=\"edge5\" class=\"edge\">\n<title>4&#45;&gt;5</title>\n<path fill=\"none\" stroke=\"#000000\" d=\"M200.2429,-400.9465C188.9299,-391.6088 176.5508,-381.3911 164.8342,-371.7203\"/>\n<polygon fill=\"#000000\" stroke=\"#000000\" points=\"166.79,-368.7964 156.8498,-365.13 162.3341,-374.195 166.79,-368.7964\"/>\n</g>\n<!-- 8 -->\n<g id=\"node9\" class=\"node\">\n<title>8</title>\n<path fill=\"#399de5\" stroke=\"#000000\" d=\"M303.5,-357.5C303.5,-357.5 203.5,-357.5 203.5,-357.5 197.5,-357.5 191.5,-351.5 191.5,-345.5 191.5,-345.5 191.5,-316.5 191.5,-316.5 191.5,-310.5 197.5,-304.5 203.5,-304.5 203.5,-304.5 303.5,-304.5 303.5,-304.5 309.5,-304.5 315.5,-310.5 315.5,-316.5 315.5,-316.5 315.5,-345.5 315.5,-345.5 315.5,-351.5 309.5,-357.5 303.5,-357.5\"/>\n<text text-anchor=\"start\" x=\"224\" y=\"-342.3\" font-family=\"Helvetica,sans-Serif\" font-size=\"14.00\" fill=\"#000000\">gini = 0.0</text>\n<text text-anchor=\"start\" x=\"201.5\" y=\"-327.3\" font-family=\"Helvetica,sans-Serif\" font-size=\"14.00\" fill=\"#000000\">samples = 1986</text>\n<text text-anchor=\"start\" x=\"199.5\" y=\"-312.3\" font-family=\"Helvetica,sans-Serif\" font-size=\"14.00\" fill=\"#000000\">value = [0, 1986]</text>\n</g>\n<!-- 4&#45;&gt;8 -->\n<g id=\"edge8\" class=\"edge\">\n<title>4&#45;&gt;8</title>\n<path fill=\"none\" stroke=\"#000000\" d=\"M245.4292,-400.9465C246.6621,-390.2621 248.0278,-378.4254 249.2799,-367.5742\"/>\n<polygon fill=\"#000000\" stroke=\"#000000\" points=\"252.768,-367.8775 250.4374,-357.5422 245.8142,-367.075 252.768,-367.8775\"/>\n</g>\n<!-- 6 -->\n<g id=\"node7\" class=\"node\">\n<title>6</title>\n<path fill=\"#e58139\" stroke=\"#000000\" d=\"M95,-253.5C95,-253.5 12,-253.5 12,-253.5 6,-253.5 0,-247.5 0,-241.5 0,-241.5 0,-212.5 0,-212.5 0,-206.5 6,-200.5 12,-200.5 12,-200.5 95,-200.5 95,-200.5 101,-200.5 107,-206.5 107,-212.5 107,-212.5 107,-241.5 107,-241.5 107,-247.5 101,-253.5 95,-253.5\"/>\n<text text-anchor=\"start\" x=\"24\" y=\"-238.3\" font-family=\"Helvetica,sans-Serif\" font-size=\"14.00\" fill=\"#000000\">gini = 0.0</text>\n<text text-anchor=\"start\" x=\"9.5\" y=\"-223.3\" font-family=\"Helvetica,sans-Serif\" font-size=\"14.00\" fill=\"#000000\">samples = 10</text>\n<text text-anchor=\"start\" x=\"8\" y=\"-208.3\" font-family=\"Helvetica,sans-Serif\" font-size=\"14.00\" fill=\"#000000\">value = [10, 0]</text>\n</g>\n<!-- 5&#45;&gt;6 -->\n<g id=\"edge6\" class=\"edge\">\n<title>5&#45;&gt;6</title>\n<path fill=\"none\" stroke=\"#000000\" d=\"M95.1989,-296.9465C88.5666,-285.8215 81.1897,-273.4473 74.5067,-262.237\"/>\n<polygon fill=\"#000000\" stroke=\"#000000\" points=\"77.4502,-260.3394 69.3232,-253.5422 71.4376,-263.9239 77.4502,-260.3394\"/>\n</g>\n<!-- 7 -->\n<g id=\"node8\" class=\"node\">\n<title>7</title>\n<path fill=\"#399de5\" stroke=\"#000000\" d=\"M220,-253.5C220,-253.5 137,-253.5 137,-253.5 131,-253.5 125,-247.5 125,-241.5 125,-241.5 125,-212.5 125,-212.5 125,-206.5 131,-200.5 137,-200.5 137,-200.5 220,-200.5 220,-200.5 226,-200.5 232,-206.5 232,-212.5 232,-212.5 232,-241.5 232,-241.5 232,-247.5 226,-253.5 220,-253.5\"/>\n<text text-anchor=\"start\" x=\"149\" y=\"-238.3\" font-family=\"Helvetica,sans-Serif\" font-size=\"14.00\" fill=\"#000000\">gini = 0.0</text>\n<text text-anchor=\"start\" x=\"134.5\" y=\"-223.3\" font-family=\"Helvetica,sans-Serif\" font-size=\"14.00\" fill=\"#000000\">samples = 33</text>\n<text text-anchor=\"start\" x=\"133\" y=\"-208.3\" font-family=\"Helvetica,sans-Serif\" font-size=\"14.00\" fill=\"#000000\">value = [0, 33]</text>\n</g>\n<!-- 5&#45;&gt;7 -->\n<g id=\"edge7\" class=\"edge\">\n<title>5&#45;&gt;7</title>\n<path fill=\"none\" stroke=\"#000000\" d=\"M136.1286,-296.9465C142.8678,-285.8215 150.3637,-273.4473 157.1545,-262.237\"/>\n<polygon fill=\"#000000\" stroke=\"#000000\" points=\"160.2339,-263.9087 162.4216,-253.5422 154.2467,-260.2818 160.2339,-263.9087\"/>\n</g>\n<!-- 10 -->\n<g id=\"node11\" class=\"node\">\n<title>10</title>\n<path fill=\"#399de5\" stroke=\"#000000\" d=\"M451,-357.5C451,-357.5 368,-357.5 368,-357.5 362,-357.5 356,-351.5 356,-345.5 356,-345.5 356,-316.5 356,-316.5 356,-310.5 362,-304.5 368,-304.5 368,-304.5 451,-304.5 451,-304.5 457,-304.5 463,-310.5 463,-316.5 463,-316.5 463,-345.5 463,-345.5 463,-351.5 457,-357.5 451,-357.5\"/>\n<text text-anchor=\"start\" x=\"380\" y=\"-342.3\" font-family=\"Helvetica,sans-Serif\" font-size=\"14.00\" fill=\"#000000\">gini = 0.0</text>\n<text text-anchor=\"start\" x=\"365.5\" y=\"-327.3\" font-family=\"Helvetica,sans-Serif\" font-size=\"14.00\" fill=\"#000000\">samples = 18</text>\n<text text-anchor=\"start\" x=\"364\" y=\"-312.3\" font-family=\"Helvetica,sans-Serif\" font-size=\"14.00\" fill=\"#000000\">value = [0, 18]</text>\n</g>\n<!-- 9&#45;&gt;10 -->\n<g id=\"edge10\" class=\"edge\">\n<title>9&#45;&gt;10</title>\n<path fill=\"none\" stroke=\"#000000\" d=\"M416.8982,-400.9465C415.7681,-390.2621 414.5162,-378.4254 413.3684,-367.5742\"/>\n<polygon fill=\"#000000\" stroke=\"#000000\" points=\"416.8398,-367.1185 412.3073,-357.5422 409.8787,-367.8549 416.8398,-367.1185\"/>\n</g>\n<!-- 11 -->\n<g id=\"node12\" class=\"node\">\n<title>11</title>\n<path fill=\"#e58139\" stroke=\"#000000\" d=\"M576,-357.5C576,-357.5 493,-357.5 493,-357.5 487,-357.5 481,-351.5 481,-345.5 481,-345.5 481,-316.5 481,-316.5 481,-310.5 487,-304.5 493,-304.5 493,-304.5 576,-304.5 576,-304.5 582,-304.5 588,-310.5 588,-316.5 588,-316.5 588,-345.5 588,-345.5 588,-351.5 582,-357.5 576,-357.5\"/>\n<text text-anchor=\"start\" x=\"505\" y=\"-342.3\" font-family=\"Helvetica,sans-Serif\" font-size=\"14.00\" fill=\"#000000\">gini = 0.0</text>\n<text text-anchor=\"start\" x=\"490.5\" y=\"-327.3\" font-family=\"Helvetica,sans-Serif\" font-size=\"14.00\" fill=\"#000000\">samples = 73</text>\n<text text-anchor=\"start\" x=\"489\" y=\"-312.3\" font-family=\"Helvetica,sans-Serif\" font-size=\"14.00\" fill=\"#000000\">value = [73, 0]</text>\n</g>\n<!-- 9&#45;&gt;11 -->\n<g id=\"edge11\" class=\"edge\">\n<title>9&#45;&gt;11</title>\n<path fill=\"none\" stroke=\"#000000\" d=\"M457.8279,-400.9465C470.6263,-389.2707 484.933,-376.219 497.6901,-364.5809\"/>\n<polygon fill=\"#000000\" stroke=\"#000000\" points=\"500.3769,-366.8675 505.4057,-357.5422 495.6591,-361.6961 500.3769,-366.8675\"/>\n</g>\n<!-- 15 -->\n<g id=\"node16\" class=\"node\">\n<title>15</title>\n<path fill=\"#f9e2d1\" stroke=\"#000000\" d=\"M950.5,-677C950.5,-677 766.5,-677 766.5,-677 760.5,-677 754.5,-671 754.5,-665 754.5,-665 754.5,-621 754.5,-621 754.5,-615 760.5,-609 766.5,-609 766.5,-609 950.5,-609 950.5,-609 956.5,-609 962.5,-615 962.5,-621 962.5,-621 962.5,-665 962.5,-665 962.5,-671 956.5,-677 950.5,-677\"/>\n<text text-anchor=\"start\" x=\"762.5\" y=\"-661.8\" font-family=\"Helvetica,sans-Serif\" font-size=\"14.00\" fill=\"#000000\">stalk&#45;surface&#45;above&#45;ring ≤ 1.5</text>\n<text text-anchor=\"start\" x=\"820.5\" y=\"-646.8\" font-family=\"Helvetica,sans-Serif\" font-size=\"14.00\" fill=\"#000000\">gini = 0.492</text>\n<text text-anchor=\"start\" x=\"806.5\" y=\"-631.8\" font-family=\"Helvetica,sans-Serif\" font-size=\"14.00\" fill=\"#000000\">samples = 1674</text>\n<text text-anchor=\"start\" x=\"800.5\" y=\"-616.8\" font-family=\"Helvetica,sans-Serif\" font-size=\"14.00\" fill=\"#000000\">value = [946, 728]</text>\n</g>\n<!-- 14&#45;&gt;15 -->\n<g id=\"edge15\" class=\"edge\">\n<title>14&#45;&gt;15</title>\n<path fill=\"none\" stroke=\"#000000\" d=\"M858.5,-712.9465C858.5,-704.776 858.5,-695.9318 858.5,-687.3697\"/>\n<polygon fill=\"#000000\" stroke=\"#000000\" points=\"862.0001,-687.13 858.5,-677.13 855.0001,-687.13 862.0001,-687.13\"/>\n</g>\n<!-- 38 -->\n<g id=\"node39\" class=\"node\">\n<title>38</title>\n<path fill=\"#e78b48\" stroke=\"#000000\" d=\"M1281.5,-677C1281.5,-677 1165.5,-677 1165.5,-677 1159.5,-677 1153.5,-671 1153.5,-665 1153.5,-665 1153.5,-621 1153.5,-621 1153.5,-615 1159.5,-609 1165.5,-609 1165.5,-609 1281.5,-609 1281.5,-609 1287.5,-609 1293.5,-615 1293.5,-621 1293.5,-621 1293.5,-665 1293.5,-665 1293.5,-671 1287.5,-677 1281.5,-677\"/>\n<text text-anchor=\"start\" x=\"1184\" y=\"-661.8\" font-family=\"Helvetica,sans-Serif\" font-size=\"14.00\" fill=\"#000000\">habitat ≤ 3.0</text>\n<text text-anchor=\"start\" x=\"1185.5\" y=\"-646.8\" font-family=\"Helvetica,sans-Serif\" font-size=\"14.00\" fill=\"#000000\">gini = 0.132</text>\n<text text-anchor=\"start\" x=\"1171.5\" y=\"-631.8\" font-family=\"Helvetica,sans-Serif\" font-size=\"14.00\" fill=\"#000000\">samples = 1972</text>\n<text text-anchor=\"start\" x=\"1161.5\" y=\"-616.8\" font-family=\"Helvetica,sans-Serif\" font-size=\"14.00\" fill=\"#000000\">value = [1832, 140]</text>\n</g>\n<!-- 14&#45;&gt;38 -->\n<g id=\"edge38\" class=\"edge\">\n<title>14&#45;&gt;38</title>\n<path fill=\"none\" stroke=\"#000000\" d=\"M928.8757,-726.9478C990.353,-709.4309 1079.5452,-684.0173 1143.6702,-665.746\"/>\n<polygon fill=\"#000000\" stroke=\"#000000\" points=\"1144.6823,-669.097 1153.3404,-662.9907 1142.764,-662.365 1144.6823,-669.097\"/>\n</g>\n<!-- 16 -->\n<g id=\"node17\" class=\"node\">\n<title>16</title>\n<path fill=\"#6db7ec\" stroke=\"#000000\" d=\"M749,-573C749,-573 648,-573 648,-573 642,-573 636,-567 636,-561 636,-561 636,-517 636,-517 636,-511 642,-505 648,-505 648,-505 749,-505 749,-505 755,-505 761,-511 761,-517 761,-517 761,-561 761,-561 761,-567 755,-573 749,-573\"/>\n<text text-anchor=\"start\" x=\"644\" y=\"-557.8\" font-family=\"Helvetica,sans-Serif\" font-size=\"14.00\" fill=\"#000000\">gill&#45;spacing ≤ 0.5</text>\n<text text-anchor=\"start\" x=\"665\" y=\"-542.8\" font-family=\"Helvetica,sans-Serif\" font-size=\"14.00\" fill=\"#000000\">gini = 0.33</text>\n<text text-anchor=\"start\" x=\"650.5\" y=\"-527.8\" font-family=\"Helvetica,sans-Serif\" font-size=\"14.00\" fill=\"#000000\">samples = 471</text>\n<text text-anchor=\"start\" x=\"644.5\" y=\"-512.8\" font-family=\"Helvetica,sans-Serif\" font-size=\"14.00\" fill=\"#000000\">value = [98, 373]</text>\n</g>\n<!-- 15&#45;&gt;16 -->\n<g id=\"edge16\" class=\"edge\">\n<title>15&#45;&gt;16</title>\n<path fill=\"none\" stroke=\"#000000\" d=\"M806.11,-608.9465C791.1918,-599.2497 774.8136,-588.6039 759.4338,-578.6069\"/>\n<polygon fill=\"#000000\" stroke=\"#000000\" points=\"761.2996,-575.6454 751.0077,-573.13 757.4847,-581.5145 761.2996,-575.6454\"/>\n</g>\n<!-- 19 -->\n<g id=\"node20\" class=\"node\">\n<title>19</title>\n<path fill=\"#f0b68c\" stroke=\"#000000\" d=\"M912.5,-573C912.5,-573 804.5,-573 804.5,-573 798.5,-573 792.5,-567 792.5,-561 792.5,-561 792.5,-517 792.5,-517 792.5,-511 798.5,-505 804.5,-505 804.5,-505 912.5,-505 912.5,-505 918.5,-505 924.5,-511 924.5,-517 924.5,-517 924.5,-561 924.5,-561 924.5,-567 918.5,-573 912.5,-573\"/>\n<text text-anchor=\"start\" x=\"816.5\" y=\"-557.8\" font-family=\"Helvetica,sans-Serif\" font-size=\"14.00\" fill=\"#000000\">gill&#45;size ≤ 0.5</text>\n<text text-anchor=\"start\" x=\"820.5\" y=\"-542.8\" font-family=\"Helvetica,sans-Serif\" font-size=\"14.00\" fill=\"#000000\">gini = 0.416</text>\n<text text-anchor=\"start\" x=\"806.5\" y=\"-527.8\" font-family=\"Helvetica,sans-Serif\" font-size=\"14.00\" fill=\"#000000\">samples = 1203</text>\n<text text-anchor=\"start\" x=\"800.5\" y=\"-512.8\" font-family=\"Helvetica,sans-Serif\" font-size=\"14.00\" fill=\"#000000\">value = [848, 355]</text>\n</g>\n<!-- 15&#45;&gt;19 -->\n<g id=\"edge19\" class=\"edge\">\n<title>15&#45;&gt;19</title>\n<path fill=\"none\" stroke=\"#000000\" d=\"M858.5,-608.9465C858.5,-600.776 858.5,-591.9318 858.5,-583.3697\"/>\n<polygon fill=\"#000000\" stroke=\"#000000\" points=\"862.0001,-583.13 858.5,-573.13 855.0001,-583.13 862.0001,-583.13\"/>\n</g>\n<!-- 17 -->\n<g id=\"node18\" class=\"node\">\n<title>17</title>\n<path fill=\"#399de5\" stroke=\"#000000\" d=\"M614.5,-461.5C614.5,-461.5 522.5,-461.5 522.5,-461.5 516.5,-461.5 510.5,-455.5 510.5,-449.5 510.5,-449.5 510.5,-420.5 510.5,-420.5 510.5,-414.5 516.5,-408.5 522.5,-408.5 522.5,-408.5 614.5,-408.5 614.5,-408.5 620.5,-408.5 626.5,-414.5 626.5,-420.5 626.5,-420.5 626.5,-449.5 626.5,-449.5 626.5,-455.5 620.5,-461.5 614.5,-461.5\"/>\n<text text-anchor=\"start\" x=\"539\" y=\"-446.3\" font-family=\"Helvetica,sans-Serif\" font-size=\"14.00\" fill=\"#000000\">gini = 0.0</text>\n<text text-anchor=\"start\" x=\"520.5\" y=\"-431.3\" font-family=\"Helvetica,sans-Serif\" font-size=\"14.00\" fill=\"#000000\">samples = 373</text>\n<text text-anchor=\"start\" x=\"518.5\" y=\"-416.3\" font-family=\"Helvetica,sans-Serif\" font-size=\"14.00\" fill=\"#000000\">value = [0, 373]</text>\n</g>\n<!-- 16&#45;&gt;17 -->\n<g id=\"edge17\" class=\"edge\">\n<title>16&#45;&gt;17</title>\n<path fill=\"none\" stroke=\"#000000\" d=\"M655.9331,-504.9465C641.063,-493.0504 624.4075,-479.726 609.6546,-467.9237\"/>\n<polygon fill=\"#000000\" stroke=\"#000000\" points=\"611.6729,-465.0561 601.6777,-461.5422 607.3,-470.5222 611.6729,-465.0561\"/>\n</g>\n<!-- 18 -->\n<g id=\"node19\" class=\"node\">\n<title>18</title>\n<path fill=\"#e58139\" stroke=\"#000000\" d=\"M740,-461.5C740,-461.5 657,-461.5 657,-461.5 651,-461.5 645,-455.5 645,-449.5 645,-449.5 645,-420.5 645,-420.5 645,-414.5 651,-408.5 657,-408.5 657,-408.5 740,-408.5 740,-408.5 746,-408.5 752,-414.5 752,-420.5 752,-420.5 752,-449.5 752,-449.5 752,-455.5 746,-461.5 740,-461.5\"/>\n<text text-anchor=\"start\" x=\"669\" y=\"-446.3\" font-family=\"Helvetica,sans-Serif\" font-size=\"14.00\" fill=\"#000000\">gini = 0.0</text>\n<text text-anchor=\"start\" x=\"654.5\" y=\"-431.3\" font-family=\"Helvetica,sans-Serif\" font-size=\"14.00\" fill=\"#000000\">samples = 98</text>\n<text text-anchor=\"start\" x=\"653\" y=\"-416.3\" font-family=\"Helvetica,sans-Serif\" font-size=\"14.00\" fill=\"#000000\">value = [98, 0]</text>\n</g>\n<!-- 16&#45;&gt;18 -->\n<g id=\"edge18\" class=\"edge\">\n<title>16&#45;&gt;18</title>\n<path fill=\"none\" stroke=\"#000000\" d=\"M698.5,-504.9465C698.5,-494.2621 698.5,-482.4254 698.5,-471.5742\"/>\n<polygon fill=\"#000000\" stroke=\"#000000\" points=\"702.0001,-471.5421 698.5,-461.5422 695.0001,-471.5422 702.0001,-471.5421\"/>\n</g>\n<!-- 20 -->\n<g id=\"node21\" class=\"node\">\n<title>20</title>\n<path fill=\"#e68743\" stroke=\"#000000\" d=\"M915,-469C915,-469 782,-469 782,-469 776,-469 770,-463 770,-457 770,-457 770,-413 770,-413 770,-407 776,-401 782,-401 782,-401 915,-401 915,-401 921,-401 927,-407 927,-413 927,-413 927,-457 927,-457 927,-463 921,-469 915,-469\"/>\n<text text-anchor=\"start\" x=\"778\" y=\"-453.8\" font-family=\"Helvetica,sans-Serif\" font-size=\"14.00\" fill=\"#000000\">spore&#45;print&#45;color ≤ 4.5</text>\n<text text-anchor=\"start\" x=\"810.5\" y=\"-438.8\" font-family=\"Helvetica,sans-Serif\" font-size=\"14.00\" fill=\"#000000\">gini = 0.088</text>\n<text text-anchor=\"start\" x=\"800.5\" y=\"-423.8\" font-family=\"Helvetica,sans-Serif\" font-size=\"14.00\" fill=\"#000000\">samples = 780</text>\n<text text-anchor=\"start\" x=\"794.5\" y=\"-408.8\" font-family=\"Helvetica,sans-Serif\" font-size=\"14.00\" fill=\"#000000\">value = [744, 36]</text>\n</g>\n<!-- 19&#45;&gt;20 -->\n<g id=\"edge20\" class=\"edge\">\n<title>19&#45;&gt;20</title>\n<path fill=\"none\" stroke=\"#000000\" d=\"M855.2256,-504.9465C854.4314,-496.6863 853.5709,-487.7374 852.7392,-479.0875\"/>\n<polygon fill=\"#000000\" stroke=\"#000000\" points=\"856.2229,-478.7491 851.7817,-469.13 849.255,-479.4191 856.2229,-478.7491\"/>\n</g>\n<!-- 27 -->\n<g id=\"node28\" class=\"node\">\n<title>27</title>\n<path fill=\"#7abded\" stroke=\"#000000\" d=\"M1139.5,-469C1139.5,-469 957.5,-469 957.5,-469 951.5,-469 945.5,-463 945.5,-457 945.5,-457 945.5,-413 945.5,-413 945.5,-407 951.5,-401 957.5,-401 957.5,-401 1139.5,-401 1139.5,-401 1145.5,-401 1151.5,-407 1151.5,-413 1151.5,-413 1151.5,-457 1151.5,-457 1151.5,-463 1145.5,-469 1139.5,-469\"/>\n<text text-anchor=\"start\" x=\"953.5\" y=\"-453.8\" font-family=\"Helvetica,sans-Serif\" font-size=\"14.00\" fill=\"#000000\">stalk&#45;surface&#45;below&#45;ring ≤ 1.0</text>\n<text text-anchor=\"start\" x=\"1010.5\" y=\"-438.8\" font-family=\"Helvetica,sans-Serif\" font-size=\"14.00\" fill=\"#000000\">gini = 0.371</text>\n<text text-anchor=\"start\" x=\"1000.5\" y=\"-423.8\" font-family=\"Helvetica,sans-Serif\" font-size=\"14.00\" fill=\"#000000\">samples = 423</text>\n<text text-anchor=\"start\" x=\"990.5\" y=\"-408.8\" font-family=\"Helvetica,sans-Serif\" font-size=\"14.00\" fill=\"#000000\">value = [104, 319]</text>\n</g>\n<!-- 19&#45;&gt;27 -->\n<g id=\"edge27\" class=\"edge\">\n<title>19&#45;&gt;27</title>\n<path fill=\"none\" stroke=\"#000000\" d=\"M920.7131,-504.9465C938.7565,-495.0701 958.5985,-484.2093 977.1546,-474.0522\"/>\n<polygon fill=\"#000000\" stroke=\"#000000\" points=\"979.0557,-477.0017 986.1471,-469.13 975.6947,-470.8613 979.0557,-477.0017\"/>\n</g>\n<!-- 21 -->\n<g id=\"node22\" class=\"node\">\n<title>21</title>\n<path fill=\"#e58139\" stroke=\"#000000\" d=\"M777.5,-357.5C777.5,-357.5 685.5,-357.5 685.5,-357.5 679.5,-357.5 673.5,-351.5 673.5,-345.5 673.5,-345.5 673.5,-316.5 673.5,-316.5 673.5,-310.5 679.5,-304.5 685.5,-304.5 685.5,-304.5 777.5,-304.5 777.5,-304.5 783.5,-304.5 789.5,-310.5 789.5,-316.5 789.5,-316.5 789.5,-345.5 789.5,-345.5 789.5,-351.5 783.5,-357.5 777.5,-357.5\"/>\n<text text-anchor=\"start\" x=\"702\" y=\"-342.3\" font-family=\"Helvetica,sans-Serif\" font-size=\"14.00\" fill=\"#000000\">gini = 0.0</text>\n<text text-anchor=\"start\" x=\"683.5\" y=\"-327.3\" font-family=\"Helvetica,sans-Serif\" font-size=\"14.00\" fill=\"#000000\">samples = 537</text>\n<text text-anchor=\"start\" x=\"681.5\" y=\"-312.3\" font-family=\"Helvetica,sans-Serif\" font-size=\"14.00\" fill=\"#000000\">value = [537, 0]</text>\n</g>\n<!-- 20&#45;&gt;21 -->\n<g id=\"edge21\" class=\"edge\">\n<title>20&#45;&gt;21</title>\n<path fill=\"none\" stroke=\"#000000\" d=\"M810.1898,-400.9465C796.9306,-389.1606 782.0942,-375.9726 768.9084,-364.2519\"/>\n<polygon fill=\"#000000\" stroke=\"#000000\" points=\"771.1593,-361.5699 761.3599,-357.5422 766.5088,-366.8018 771.1593,-361.5699\"/>\n</g>\n<!-- 22 -->\n<g id=\"node23\" class=\"node\">\n<title>22</title>\n<path fill=\"#ea975b\" stroke=\"#000000\" d=\"M919.5,-365C919.5,-365 819.5,-365 819.5,-365 813.5,-365 807.5,-359 807.5,-353 807.5,-353 807.5,-309 807.5,-309 807.5,-303 813.5,-297 819.5,-297 819.5,-297 919.5,-297 919.5,-297 925.5,-297 931.5,-303 931.5,-309 931.5,-309 931.5,-353 931.5,-353 931.5,-359 925.5,-365 919.5,-365\"/>\n<text text-anchor=\"start\" x=\"822\" y=\"-349.8\" font-family=\"Helvetica,sans-Serif\" font-size=\"14.00\" fill=\"#000000\">stalk&#45;root ≤ 0.5</text>\n<text text-anchor=\"start\" x=\"831.5\" y=\"-334.8\" font-family=\"Helvetica,sans-Serif\" font-size=\"14.00\" fill=\"#000000\">gini = 0.252</text>\n<text text-anchor=\"start\" x=\"821.5\" y=\"-319.8\" font-family=\"Helvetica,sans-Serif\" font-size=\"14.00\" fill=\"#000000\">samples = 243</text>\n<text text-anchor=\"start\" x=\"815.5\" y=\"-304.8\" font-family=\"Helvetica,sans-Serif\" font-size=\"14.00\" fill=\"#000000\">value = [207, 36]</text>\n</g>\n<!-- 20&#45;&gt;22 -->\n<g id=\"edge22\" class=\"edge\">\n<title>20&#45;&gt;22</title>\n<path fill=\"none\" stroke=\"#000000\" d=\"M855.3762,-400.9465C857.0441,-392.6863 858.8511,-383.7374 860.5977,-375.0875\"/>\n<polygon fill=\"#000000\" stroke=\"#000000\" points=\"864.0598,-375.6249 862.6084,-365.13 857.1982,-374.2394 864.0598,-375.6249\"/>\n</g>\n<!-- 23 -->\n<g id=\"node24\" class=\"node\">\n<title>23</title>\n<path fill=\"#e58139\" stroke=\"#000000\" d=\"M770.5,-253.5C770.5,-253.5 678.5,-253.5 678.5,-253.5 672.5,-253.5 666.5,-247.5 666.5,-241.5 666.5,-241.5 666.5,-212.5 666.5,-212.5 666.5,-206.5 672.5,-200.5 678.5,-200.5 678.5,-200.5 770.5,-200.5 770.5,-200.5 776.5,-200.5 782.5,-206.5 782.5,-212.5 782.5,-212.5 782.5,-241.5 782.5,-241.5 782.5,-247.5 776.5,-253.5 770.5,-253.5\"/>\n<text text-anchor=\"start\" x=\"695\" y=\"-238.3\" font-family=\"Helvetica,sans-Serif\" font-size=\"14.00\" fill=\"#000000\">gini = 0.0</text>\n<text text-anchor=\"start\" x=\"676.5\" y=\"-223.3\" font-family=\"Helvetica,sans-Serif\" font-size=\"14.00\" fill=\"#000000\">samples = 170</text>\n<text text-anchor=\"start\" x=\"674.5\" y=\"-208.3\" font-family=\"Helvetica,sans-Serif\" font-size=\"14.00\" fill=\"#000000\">value = [170, 0]</text>\n</g>\n<!-- 22&#45;&gt;23 -->\n<g id=\"edge23\" class=\"edge\">\n<title>22&#45;&gt;23</title>\n<path fill=\"none\" stroke=\"#000000\" d=\"M822.0216,-296.9465C805.2821,-284.9403 786.5142,-271.4791 769.9467,-259.5962\"/>\n<polygon fill=\"#000000\" stroke=\"#000000\" points=\"771.6718,-256.5264 761.5059,-253.5422 767.592,-262.2146 771.6718,-256.5264\"/>\n</g>\n<!-- 24 -->\n<g id=\"node25\" class=\"node\">\n<title>24</title>\n<path fill=\"#fefcfa\" stroke=\"#000000\" d=\"M946,-261C946,-261 813,-261 813,-261 807,-261 801,-255 801,-249 801,-249 801,-205 801,-205 801,-199 807,-193 813,-193 813,-193 946,-193 946,-193 952,-193 958,-199 958,-205 958,-205 958,-249 958,-249 958,-255 952,-261 946,-261\"/>\n<text text-anchor=\"start\" x=\"809\" y=\"-245.8\" font-family=\"Helvetica,sans-Serif\" font-size=\"14.00\" fill=\"#000000\">spore&#45;print&#45;color ≤ 6.0</text>\n<text text-anchor=\"start\" x=\"850\" y=\"-230.8\" font-family=\"Helvetica,sans-Serif\" font-size=\"14.00\" fill=\"#000000\">gini = 0.5</text>\n<text text-anchor=\"start\" x=\"835.5\" y=\"-215.8\" font-family=\"Helvetica,sans-Serif\" font-size=\"14.00\" fill=\"#000000\">samples = 73</text>\n<text text-anchor=\"start\" x=\"829.5\" y=\"-200.8\" font-family=\"Helvetica,sans-Serif\" font-size=\"14.00\" fill=\"#000000\">value = [37, 36]</text>\n</g>\n<!-- 22&#45;&gt;24 -->\n<g id=\"edge24\" class=\"edge\">\n<title>22&#45;&gt;24</title>\n<path fill=\"none\" stroke=\"#000000\" d=\"M872.7744,-296.9465C873.5686,-288.6863 874.4291,-279.7374 875.2608,-271.0875\"/>\n<polygon fill=\"#000000\" stroke=\"#000000\" points=\"878.745,-271.4191 876.2183,-261.13 871.7771,-270.7491 878.745,-271.4191\"/>\n</g>\n<!-- 25 -->\n<g id=\"node26\" class=\"node\">\n<title>25</title>\n<path fill=\"#399de5\" stroke=\"#000000\" d=\"M799,-149.5C799,-149.5 716,-149.5 716,-149.5 710,-149.5 704,-143.5 704,-137.5 704,-137.5 704,-108.5 704,-108.5 704,-102.5 710,-96.5 716,-96.5 716,-96.5 799,-96.5 799,-96.5 805,-96.5 811,-102.5 811,-108.5 811,-108.5 811,-137.5 811,-137.5 811,-143.5 805,-149.5 799,-149.5\"/>\n<text text-anchor=\"start\" x=\"728\" y=\"-134.3\" font-family=\"Helvetica,sans-Serif\" font-size=\"14.00\" fill=\"#000000\">gini = 0.0</text>\n<text text-anchor=\"start\" x=\"713.5\" y=\"-119.3\" font-family=\"Helvetica,sans-Serif\" font-size=\"14.00\" fill=\"#000000\">samples = 36</text>\n<text text-anchor=\"start\" x=\"712\" y=\"-104.3\" font-family=\"Helvetica,sans-Serif\" font-size=\"14.00\" fill=\"#000000\">value = [0, 36]</text>\n</g>\n<!-- 24&#45;&gt;25 -->\n<g id=\"edge25\" class=\"edge\">\n<title>24&#45;&gt;25</title>\n<path fill=\"none\" stroke=\"#000000\" d=\"M839.5526,-192.9465C825.7268,-181.1606 810.2564,-167.9726 796.5071,-156.2519\"/>\n<polygon fill=\"#000000\" stroke=\"#000000\" points=\"798.5168,-153.366 788.636,-149.5422 793.9756,-158.6931 798.5168,-153.366\"/>\n</g>\n<!-- 26 -->\n<g id=\"node27\" class=\"node\">\n<title>26</title>\n<path fill=\"#e58139\" stroke=\"#000000\" d=\"M924,-149.5C924,-149.5 841,-149.5 841,-149.5 835,-149.5 829,-143.5 829,-137.5 829,-137.5 829,-108.5 829,-108.5 829,-102.5 835,-96.5 841,-96.5 841,-96.5 924,-96.5 924,-96.5 930,-96.5 936,-102.5 936,-108.5 936,-108.5 936,-137.5 936,-137.5 936,-143.5 930,-149.5 924,-149.5\"/>\n<text text-anchor=\"start\" x=\"853\" y=\"-134.3\" font-family=\"Helvetica,sans-Serif\" font-size=\"14.00\" fill=\"#000000\">gini = 0.0</text>\n<text text-anchor=\"start\" x=\"838.5\" y=\"-119.3\" font-family=\"Helvetica,sans-Serif\" font-size=\"14.00\" fill=\"#000000\">samples = 37</text>\n<text text-anchor=\"start\" x=\"837\" y=\"-104.3\" font-family=\"Helvetica,sans-Serif\" font-size=\"14.00\" fill=\"#000000\">value = [37, 0]</text>\n</g>\n<!-- 24&#45;&gt;26 -->\n<g id=\"edge26\" class=\"edge\">\n<title>24&#45;&gt;26</title>\n<path fill=\"none\" stroke=\"#000000\" d=\"M880.4823,-192.9465C880.7905,-182.2621 881.132,-170.4254 881.445,-159.5742\"/>\n<polygon fill=\"#000000\" stroke=\"#000000\" points=\"884.9445,-159.639 881.7344,-149.5422 877.9474,-159.4371 884.9445,-159.639\"/>\n</g>\n<!-- 28 -->\n<g id=\"node29\" class=\"node\">\n<title>28</title>\n<path fill=\"#e58139\" stroke=\"#000000\" d=\"M1085,-357.5C1085,-357.5 1002,-357.5 1002,-357.5 996,-357.5 990,-351.5 990,-345.5 990,-345.5 990,-316.5 990,-316.5 990,-310.5 996,-304.5 1002,-304.5 1002,-304.5 1085,-304.5 1085,-304.5 1091,-304.5 1097,-310.5 1097,-316.5 1097,-316.5 1097,-345.5 1097,-345.5 1097,-351.5 1091,-357.5 1085,-357.5\"/>\n<text text-anchor=\"start\" x=\"1014\" y=\"-342.3\" font-family=\"Helvetica,sans-Serif\" font-size=\"14.00\" fill=\"#000000\">gini = 0.0</text>\n<text text-anchor=\"start\" x=\"999.5\" y=\"-327.3\" font-family=\"Helvetica,sans-Serif\" font-size=\"14.00\" fill=\"#000000\">samples = 37</text>\n<text text-anchor=\"start\" x=\"998\" y=\"-312.3\" font-family=\"Helvetica,sans-Serif\" font-size=\"14.00\" fill=\"#000000\">value = [37, 0]</text>\n</g>\n<!-- 27&#45;&gt;28 -->\n<g id=\"edge28\" class=\"edge\">\n<title>27&#45;&gt;28</title>\n<path fill=\"none\" stroke=\"#000000\" d=\"M1046.8628,-400.9465C1046.3491,-390.2621 1045.7801,-378.4254 1045.2584,-367.5742\"/>\n<polygon fill=\"#000000\" stroke=\"#000000\" points=\"1048.7523,-367.3625 1044.7761,-357.5422 1041.7604,-367.6987 1048.7523,-367.3625\"/>\n</g>\n<!-- 29 -->\n<g id=\"node30\" class=\"node\">\n<title>29</title>\n<path fill=\"#63b2ea\" stroke=\"#000000\" d=\"M1231.5,-365C1231.5,-365 1127.5,-365 1127.5,-365 1121.5,-365 1115.5,-359 1115.5,-353 1115.5,-353 1115.5,-309 1115.5,-309 1115.5,-303 1121.5,-297 1127.5,-297 1127.5,-297 1231.5,-297 1231.5,-297 1237.5,-297 1243.5,-303 1243.5,-309 1243.5,-309 1243.5,-353 1243.5,-353 1243.5,-359 1237.5,-365 1231.5,-365\"/>\n<text text-anchor=\"start\" x=\"1123.5\" y=\"-349.8\" font-family=\"Helvetica,sans-Serif\" font-size=\"14.00\" fill=\"#000000\">cap&#45;surface ≤ 0.5</text>\n<text text-anchor=\"start\" x=\"1141.5\" y=\"-334.8\" font-family=\"Helvetica,sans-Serif\" font-size=\"14.00\" fill=\"#000000\">gini = 0.287</text>\n<text text-anchor=\"start\" x=\"1131.5\" y=\"-319.8\" font-family=\"Helvetica,sans-Serif\" font-size=\"14.00\" fill=\"#000000\">samples = 386</text>\n<text text-anchor=\"start\" x=\"1125.5\" y=\"-304.8\" font-family=\"Helvetica,sans-Serif\" font-size=\"14.00\" fill=\"#000000\">value = [67, 319]</text>\n</g>\n<!-- 27&#45;&gt;29 -->\n<g id=\"edge29\" class=\"edge\">\n<title>27&#45;&gt;29</title>\n<path fill=\"none\" stroke=\"#000000\" d=\"M1091.3943,-400.9465C1103.2693,-391.519 1116.2741,-381.1946 1128.5593,-371.4415\"/>\n<polygon fill=\"#000000\" stroke=\"#000000\" points=\"1130.8536,-374.089 1136.5093,-365.13 1126.5011,-368.6066 1130.8536,-374.089\"/>\n</g>\n<!-- 30 -->\n<g id=\"node31\" class=\"node\">\n<title>30</title>\n<path fill=\"#fef9f5\" stroke=\"#000000\" d=\"M1223.5,-261C1223.5,-261 1131.5,-261 1131.5,-261 1125.5,-261 1119.5,-255 1119.5,-249 1119.5,-249 1119.5,-205 1119.5,-205 1119.5,-199 1125.5,-193 1131.5,-193 1131.5,-193 1223.5,-193 1223.5,-193 1229.5,-193 1235.5,-199 1235.5,-205 1235.5,-205 1235.5,-249 1235.5,-249 1235.5,-255 1229.5,-261 1223.5,-261\"/>\n<text text-anchor=\"start\" x=\"1130\" y=\"-245.8\" font-family=\"Helvetica,sans-Serif\" font-size=\"14.00\" fill=\"#000000\">stalk&#45;root ≤ 2.0</text>\n<text text-anchor=\"start\" x=\"1148\" y=\"-230.8\" font-family=\"Helvetica,sans-Serif\" font-size=\"14.00\" fill=\"#000000\">gini = 0.5</text>\n<text text-anchor=\"start\" x=\"1129.5\" y=\"-215.8\" font-family=\"Helvetica,sans-Serif\" font-size=\"14.00\" fill=\"#000000\">samples = 119</text>\n<text text-anchor=\"start\" x=\"1127.5\" y=\"-200.8\" font-family=\"Helvetica,sans-Serif\" font-size=\"14.00\" fill=\"#000000\">value = [61, 58]</text>\n</g>\n<!-- 29&#45;&gt;30 -->\n<g id=\"edge30\" class=\"edge\">\n<title>29&#45;&gt;30</title>\n<path fill=\"none\" stroke=\"#000000\" d=\"M1178.8451,-296.9465C1178.688,-288.776 1178.5179,-279.9318 1178.3533,-271.3697\"/>\n<polygon fill=\"#000000\" stroke=\"#000000\" points=\"1181.8481,-271.0608 1178.1563,-261.13 1174.8494,-271.1955 1181.8481,-271.0608\"/>\n</g>\n<!-- 35 -->\n<g id=\"node36\" class=\"node\">\n<title>35</title>\n<path fill=\"#3e9fe6\" stroke=\"#000000\" d=\"M1431,-261C1431,-261 1266,-261 1266,-261 1260,-261 1254,-255 1254,-249 1254,-249 1254,-205 1254,-205 1254,-199 1260,-193 1266,-193 1266,-193 1431,-193 1431,-193 1437,-193 1443,-199 1443,-205 1443,-205 1443,-249 1443,-249 1443,-255 1437,-261 1431,-261\"/>\n<text text-anchor=\"start\" x=\"1262\" y=\"-245.8\" font-family=\"Helvetica,sans-Serif\" font-size=\"14.00\" fill=\"#000000\">stalk&#45;color&#45;below&#45;ring ≤ 5.5</text>\n<text text-anchor=\"start\" x=\"1310.5\" y=\"-230.8\" font-family=\"Helvetica,sans-Serif\" font-size=\"14.00\" fill=\"#000000\">gini = 0.044</text>\n<text text-anchor=\"start\" x=\"1300.5\" y=\"-215.8\" font-family=\"Helvetica,sans-Serif\" font-size=\"14.00\" fill=\"#000000\">samples = 267</text>\n<text text-anchor=\"start\" x=\"1298.5\" y=\"-200.8\" font-family=\"Helvetica,sans-Serif\" font-size=\"14.00\" fill=\"#000000\">value = [6, 261]</text>\n</g>\n<!-- 29&#45;&gt;35 -->\n<g id=\"edge35\" class=\"edge\">\n<title>29&#45;&gt;35</title>\n<path fill=\"none\" stroke=\"#000000\" d=\"M1234.8369,-296.9465C1250.5942,-287.2497 1267.8937,-276.6039 1284.1387,-266.6069\"/>\n<polygon fill=\"#000000\" stroke=\"#000000\" points=\"1286.3565,-269.3518 1293.0388,-261.13 1282.6878,-263.3902 1286.3565,-269.3518\"/>\n</g>\n<!-- 31 -->\n<g id=\"node32\" class=\"node\">\n<title>31</title>\n<path fill=\"#4da7e8\" stroke=\"#000000\" d=\"M1117.5,-157C1117.5,-157 1033.5,-157 1033.5,-157 1027.5,-157 1021.5,-151 1021.5,-145 1021.5,-145 1021.5,-101 1021.5,-101 1021.5,-95 1027.5,-89 1033.5,-89 1033.5,-89 1117.5,-89 1117.5,-89 1123.5,-89 1129.5,-95 1129.5,-101 1129.5,-101 1129.5,-145 1129.5,-145 1129.5,-151 1123.5,-157 1117.5,-157\"/>\n<text text-anchor=\"start\" x=\"1029.5\" y=\"-141.8\" font-family=\"Helvetica,sans-Serif\" font-size=\"14.00\" fill=\"#000000\">ring&#45;type ≤ 2.0</text>\n<text text-anchor=\"start\" x=\"1042\" y=\"-126.8\" font-family=\"Helvetica,sans-Serif\" font-size=\"14.00\" fill=\"#000000\">gini = 0.17</text>\n<text text-anchor=\"start\" x=\"1031.5\" y=\"-111.8\" font-family=\"Helvetica,sans-Serif\" font-size=\"14.00\" fill=\"#000000\">samples = 64</text>\n<text text-anchor=\"start\" x=\"1030\" y=\"-96.8\" font-family=\"Helvetica,sans-Serif\" font-size=\"14.00\" fill=\"#000000\">value = [6, 58]</text>\n</g>\n<!-- 30&#45;&gt;31 -->\n<g id=\"edge31\" class=\"edge\">\n<title>30&#45;&gt;31</title>\n<path fill=\"none\" stroke=\"#000000\" d=\"M1144.1014,-192.9465C1135.1194,-183.7884 1125.3072,-173.7838 1115.985,-164.2788\"/>\n<polygon fill=\"#000000\" stroke=\"#000000\" points=\"1118.4746,-161.8187 1108.9737,-157.13 1113.477,-166.7201 1118.4746,-161.8187\"/>\n</g>\n<!-- 34 -->\n<g id=\"node35\" class=\"node\">\n<title>34</title>\n<path fill=\"#e58139\" stroke=\"#000000\" d=\"M1243,-149.5C1243,-149.5 1160,-149.5 1160,-149.5 1154,-149.5 1148,-143.5 1148,-137.5 1148,-137.5 1148,-108.5 1148,-108.5 1148,-102.5 1154,-96.5 1160,-96.5 1160,-96.5 1243,-96.5 1243,-96.5 1249,-96.5 1255,-102.5 1255,-108.5 1255,-108.5 1255,-137.5 1255,-137.5 1255,-143.5 1249,-149.5 1243,-149.5\"/>\n<text text-anchor=\"start\" x=\"1172\" y=\"-134.3\" font-family=\"Helvetica,sans-Serif\" font-size=\"14.00\" fill=\"#000000\">gini = 0.0</text>\n<text text-anchor=\"start\" x=\"1157.5\" y=\"-119.3\" font-family=\"Helvetica,sans-Serif\" font-size=\"14.00\" fill=\"#000000\">samples = 55</text>\n<text text-anchor=\"start\" x=\"1156\" y=\"-104.3\" font-family=\"Helvetica,sans-Serif\" font-size=\"14.00\" fill=\"#000000\">value = [55, 0]</text>\n</g>\n<!-- 30&#45;&gt;34 -->\n<g id=\"edge34\" class=\"edge\">\n<title>30&#45;&gt;34</title>\n<path fill=\"none\" stroke=\"#000000\" d=\"M1185.3585,-192.9465C1187.8241,-182.2621 1190.5557,-170.4254 1193.0598,-159.5742\"/>\n<polygon fill=\"#000000\" stroke=\"#000000\" points=\"1196.5366,-160.0731 1195.3749,-149.5422 1189.7158,-158.499 1196.5366,-160.0731\"/>\n</g>\n<!-- 32 -->\n<g id=\"node33\" class=\"node\">\n<title>32</title>\n<path fill=\"#e58139\" stroke=\"#000000\" d=\"M1052,-53C1052,-53 977,-53 977,-53 971,-53 965,-47 965,-41 965,-41 965,-12 965,-12 965,-6 971,0 977,0 977,0 1052,0 1052,0 1058,0 1064,-6 1064,-12 1064,-12 1064,-41 1064,-41 1064,-47 1058,-53 1052,-53\"/>\n<text text-anchor=\"start\" x=\"985\" y=\"-37.8\" font-family=\"Helvetica,sans-Serif\" font-size=\"14.00\" fill=\"#000000\">gini = 0.0</text>\n<text text-anchor=\"start\" x=\"975\" y=\"-22.8\" font-family=\"Helvetica,sans-Serif\" font-size=\"14.00\" fill=\"#000000\">samples = 6</text>\n<text text-anchor=\"start\" x=\"973\" y=\"-7.8\" font-family=\"Helvetica,sans-Serif\" font-size=\"14.00\" fill=\"#000000\">value = [6, 0]</text>\n</g>\n<!-- 31&#45;&gt;32 -->\n<g id=\"edge32\" class=\"edge\">\n<title>31&#45;&gt;32</title>\n<path fill=\"none\" stroke=\"#000000\" d=\"M1053.9937,-88.9777C1048.4369,-80.187 1042.4427,-70.7044 1036.8441,-61.8477\"/>\n<polygon fill=\"#000000\" stroke=\"#000000\" points=\"1039.7101,-59.8312 1031.4084,-53.2485 1033.7931,-63.5714 1039.7101,-59.8312\"/>\n</g>\n<!-- 33 -->\n<g id=\"node34\" class=\"node\">\n<title>33</title>\n<path fill=\"#399de5\" stroke=\"#000000\" d=\"M1177,-53C1177,-53 1094,-53 1094,-53 1088,-53 1082,-47 1082,-41 1082,-41 1082,-12 1082,-12 1082,-6 1088,0 1094,0 1094,0 1177,0 1177,0 1183,0 1189,-6 1189,-12 1189,-12 1189,-41 1189,-41 1189,-47 1183,-53 1177,-53\"/>\n<text text-anchor=\"start\" x=\"1106\" y=\"-37.8\" font-family=\"Helvetica,sans-Serif\" font-size=\"14.00\" fill=\"#000000\">gini = 0.0</text>\n<text text-anchor=\"start\" x=\"1091.5\" y=\"-22.8\" font-family=\"Helvetica,sans-Serif\" font-size=\"14.00\" fill=\"#000000\">samples = 58</text>\n<text text-anchor=\"start\" x=\"1090\" y=\"-7.8\" font-family=\"Helvetica,sans-Serif\" font-size=\"14.00\" fill=\"#000000\">value = [0, 58]</text>\n</g>\n<!-- 31&#45;&gt;33 -->\n<g id=\"edge33\" class=\"edge\">\n<title>31&#45;&gt;33</title>\n<path fill=\"none\" stroke=\"#000000\" d=\"M1096.6538,-88.9777C1102.1195,-80.187 1108.0154,-70.7044 1113.5222,-61.8477\"/>\n<polygon fill=\"#000000\" stroke=\"#000000\" points=\"1116.5609,-63.5889 1118.8688,-53.2485 1110.6163,-59.8927 1116.5609,-63.5889\"/>\n</g>\n<!-- 36 -->\n<g id=\"node37\" class=\"node\">\n<title>36</title>\n<path fill=\"#e58139\" stroke=\"#000000\" d=\"M1385,-149.5C1385,-149.5 1310,-149.5 1310,-149.5 1304,-149.5 1298,-143.5 1298,-137.5 1298,-137.5 1298,-108.5 1298,-108.5 1298,-102.5 1304,-96.5 1310,-96.5 1310,-96.5 1385,-96.5 1385,-96.5 1391,-96.5 1397,-102.5 1397,-108.5 1397,-108.5 1397,-137.5 1397,-137.5 1397,-143.5 1391,-149.5 1385,-149.5\"/>\n<text text-anchor=\"start\" x=\"1318\" y=\"-134.3\" font-family=\"Helvetica,sans-Serif\" font-size=\"14.00\" fill=\"#000000\">gini = 0.0</text>\n<text text-anchor=\"start\" x=\"1308\" y=\"-119.3\" font-family=\"Helvetica,sans-Serif\" font-size=\"14.00\" fill=\"#000000\">samples = 6</text>\n<text text-anchor=\"start\" x=\"1306\" y=\"-104.3\" font-family=\"Helvetica,sans-Serif\" font-size=\"14.00\" fill=\"#000000\">value = [6, 0]</text>\n</g>\n<!-- 35&#45;&gt;36 -->\n<g id=\"edge36\" class=\"edge\">\n<title>35&#45;&gt;36</title>\n<path fill=\"none\" stroke=\"#000000\" d=\"M1348.1726,-192.9465C1348.0698,-182.2621 1347.956,-170.4254 1347.8517,-159.5742\"/>\n<polygon fill=\"#000000\" stroke=\"#000000\" points=\"1351.3513,-159.508 1347.7552,-149.5422 1344.3516,-159.5754 1351.3513,-159.508\"/>\n</g>\n<!-- 37 -->\n<g id=\"node38\" class=\"node\">\n<title>37</title>\n<path fill=\"#399de5\" stroke=\"#000000\" d=\"M1519.5,-149.5C1519.5,-149.5 1427.5,-149.5 1427.5,-149.5 1421.5,-149.5 1415.5,-143.5 1415.5,-137.5 1415.5,-137.5 1415.5,-108.5 1415.5,-108.5 1415.5,-102.5 1421.5,-96.5 1427.5,-96.5 1427.5,-96.5 1519.5,-96.5 1519.5,-96.5 1525.5,-96.5 1531.5,-102.5 1531.5,-108.5 1531.5,-108.5 1531.5,-137.5 1531.5,-137.5 1531.5,-143.5 1525.5,-149.5 1519.5,-149.5\"/>\n<text text-anchor=\"start\" x=\"1444\" y=\"-134.3\" font-family=\"Helvetica,sans-Serif\" font-size=\"14.00\" fill=\"#000000\">gini = 0.0</text>\n<text text-anchor=\"start\" x=\"1425.5\" y=\"-119.3\" font-family=\"Helvetica,sans-Serif\" font-size=\"14.00\" fill=\"#000000\">samples = 261</text>\n<text text-anchor=\"start\" x=\"1423.5\" y=\"-104.3\" font-family=\"Helvetica,sans-Serif\" font-size=\"14.00\" fill=\"#000000\">value = [0, 261]</text>\n</g>\n<!-- 35&#45;&gt;37 -->\n<g id=\"edge37\" class=\"edge\">\n<title>35&#45;&gt;37</title>\n<path fill=\"none\" stroke=\"#000000\" d=\"M1389.4297,-192.9465C1403.5955,-181.1606 1419.4463,-167.9726 1433.5338,-156.2519\"/>\n<polygon fill=\"#000000\" stroke=\"#000000\" points=\"1436.1496,-158.6285 1441.5984,-149.5422 1431.6725,-153.2474 1436.1496,-158.6285\"/>\n</g>\n<!-- 39 -->\n<g id=\"node40\" class=\"node\">\n<title>39</title>\n<path fill=\"#e68641\" stroke=\"#000000\" d=\"M1290,-573C1290,-573 1157,-573 1157,-573 1151,-573 1145,-567 1145,-561 1145,-561 1145,-517 1145,-517 1145,-511 1151,-505 1157,-505 1157,-505 1290,-505 1290,-505 1296,-505 1302,-511 1302,-517 1302,-517 1302,-561 1302,-561 1302,-567 1296,-573 1290,-573\"/>\n<text text-anchor=\"start\" x=\"1153\" y=\"-557.8\" font-family=\"Helvetica,sans-Serif\" font-size=\"14.00\" fill=\"#000000\">spore&#45;print&#45;color ≤ 1.5</text>\n<text text-anchor=\"start\" x=\"1185.5\" y=\"-542.8\" font-family=\"Helvetica,sans-Serif\" font-size=\"14.00\" fill=\"#000000\">gini = 0.072</text>\n<text text-anchor=\"start\" x=\"1171.5\" y=\"-527.8\" font-family=\"Helvetica,sans-Serif\" font-size=\"14.00\" fill=\"#000000\">samples = 1903</text>\n<text text-anchor=\"start\" x=\"1165.5\" y=\"-512.8\" font-family=\"Helvetica,sans-Serif\" font-size=\"14.00\" fill=\"#000000\">value = [1832, 71]</text>\n</g>\n<!-- 38&#45;&gt;39 -->\n<g id=\"edge39\" class=\"edge\">\n<title>38&#45;&gt;39</title>\n<path fill=\"none\" stroke=\"#000000\" d=\"M1223.5,-608.9465C1223.5,-600.776 1223.5,-591.9318 1223.5,-583.3697\"/>\n<polygon fill=\"#000000\" stroke=\"#000000\" points=\"1227.0001,-583.13 1223.5,-573.13 1220.0001,-583.13 1227.0001,-583.13\"/>\n</g>\n<!-- 42 -->\n<g id=\"node43\" class=\"node\">\n<title>42</title>\n<path fill=\"#399de5\" stroke=\"#000000\" d=\"M1415,-565.5C1415,-565.5 1332,-565.5 1332,-565.5 1326,-565.5 1320,-559.5 1320,-553.5 1320,-553.5 1320,-524.5 1320,-524.5 1320,-518.5 1326,-512.5 1332,-512.5 1332,-512.5 1415,-512.5 1415,-512.5 1421,-512.5 1427,-518.5 1427,-524.5 1427,-524.5 1427,-553.5 1427,-553.5 1427,-559.5 1421,-565.5 1415,-565.5\"/>\n<text text-anchor=\"start\" x=\"1344\" y=\"-550.3\" font-family=\"Helvetica,sans-Serif\" font-size=\"14.00\" fill=\"#000000\">gini = 0.0</text>\n<text text-anchor=\"start\" x=\"1329.5\" y=\"-535.3\" font-family=\"Helvetica,sans-Serif\" font-size=\"14.00\" fill=\"#000000\">samples = 69</text>\n<text text-anchor=\"start\" x=\"1328\" y=\"-520.3\" font-family=\"Helvetica,sans-Serif\" font-size=\"14.00\" fill=\"#000000\">value = [0, 69]</text>\n</g>\n<!-- 38&#45;&gt;42 -->\n<g id=\"edge42\" class=\"edge\">\n<title>38&#45;&gt;42</title>\n<path fill=\"none\" stroke=\"#000000\" d=\"M1272.6156,-608.9465C1290.0912,-596.8301 1309.7038,-583.232 1326.9573,-571.2696\"/>\n<polygon fill=\"#000000\" stroke=\"#000000\" points=\"1328.9943,-574.1163 1335.218,-565.5422 1325.0058,-568.3637 1328.9943,-574.1163\"/>\n</g>\n<!-- 40 -->\n<g id=\"node41\" class=\"node\">\n<title>40</title>\n<path fill=\"#399de5\" stroke=\"#000000\" d=\"M1265,-461.5C1265,-461.5 1182,-461.5 1182,-461.5 1176,-461.5 1170,-455.5 1170,-449.5 1170,-449.5 1170,-420.5 1170,-420.5 1170,-414.5 1176,-408.5 1182,-408.5 1182,-408.5 1265,-408.5 1265,-408.5 1271,-408.5 1277,-414.5 1277,-420.5 1277,-420.5 1277,-449.5 1277,-449.5 1277,-455.5 1271,-461.5 1265,-461.5\"/>\n<text text-anchor=\"start\" x=\"1194\" y=\"-446.3\" font-family=\"Helvetica,sans-Serif\" font-size=\"14.00\" fill=\"#000000\">gini = 0.0</text>\n<text text-anchor=\"start\" x=\"1179.5\" y=\"-431.3\" font-family=\"Helvetica,sans-Serif\" font-size=\"14.00\" fill=\"#000000\">samples = 71</text>\n<text text-anchor=\"start\" x=\"1178\" y=\"-416.3\" font-family=\"Helvetica,sans-Serif\" font-size=\"14.00\" fill=\"#000000\">value = [0, 71]</text>\n</g>\n<!-- 39&#45;&gt;40 -->\n<g id=\"edge40\" class=\"edge\">\n<title>39&#45;&gt;40</title>\n<path fill=\"none\" stroke=\"#000000\" d=\"M1223.5,-504.9465C1223.5,-494.2621 1223.5,-482.4254 1223.5,-471.5742\"/>\n<polygon fill=\"#000000\" stroke=\"#000000\" points=\"1227.0001,-471.5421 1223.5,-461.5422 1220.0001,-471.5422 1227.0001,-471.5421\"/>\n</g>\n<!-- 41 -->\n<g id=\"node42\" class=\"node\">\n<title>41</title>\n<path fill=\"#e58139\" stroke=\"#000000\" d=\"M1407.5,-461.5C1407.5,-461.5 1307.5,-461.5 1307.5,-461.5 1301.5,-461.5 1295.5,-455.5 1295.5,-449.5 1295.5,-449.5 1295.5,-420.5 1295.5,-420.5 1295.5,-414.5 1301.5,-408.5 1307.5,-408.5 1307.5,-408.5 1407.5,-408.5 1407.5,-408.5 1413.5,-408.5 1419.5,-414.5 1419.5,-420.5 1419.5,-420.5 1419.5,-449.5 1419.5,-449.5 1419.5,-455.5 1413.5,-461.5 1407.5,-461.5\"/>\n<text text-anchor=\"start\" x=\"1328\" y=\"-446.3\" font-family=\"Helvetica,sans-Serif\" font-size=\"14.00\" fill=\"#000000\">gini = 0.0</text>\n<text text-anchor=\"start\" x=\"1305.5\" y=\"-431.3\" font-family=\"Helvetica,sans-Serif\" font-size=\"14.00\" fill=\"#000000\">samples = 1832</text>\n<text text-anchor=\"start\" x=\"1303.5\" y=\"-416.3\" font-family=\"Helvetica,sans-Serif\" font-size=\"14.00\" fill=\"#000000\">value = [1832, 0]</text>\n</g>\n<!-- 39&#45;&gt;41 -->\n<g id=\"edge41\" class=\"edge\">\n<title>39&#45;&gt;41</title>\n<path fill=\"none\" stroke=\"#000000\" d=\"M1267.3766,-504.9465C1282.7043,-493.0504 1299.8723,-479.726 1315.0791,-467.9237\"/>\n<polygon fill=\"#000000\" stroke=\"#000000\" points=\"1317.5475,-470.4384 1323.3014,-461.5422 1313.2556,-464.9085 1317.5475,-470.4384\"/>\n</g>\n</g>\n</svg>\n"
          },
          "metadata": {
            "tags": []
          },
          "execution_count": 16
        }
      ]
    }
  ]
}