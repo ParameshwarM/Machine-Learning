{
  "nbformat": 4,
  "nbformat_minor": 0,
  "metadata": {
    "colab": {
      "name": "Pandas.ipynb",
      "provenance": [],
      "collapsed_sections": []
    },
    "kernelspec": {
      "name": "python3",
      "display_name": "Python 3"
    }
  },
  "cells": [
    {
      "cell_type": "markdown",
      "metadata": {
        "id": "FNvo4Lv5umnP",
        "colab_type": "text"
      },
      "source": [
        "##Pandas Recap"
      ]
    },
    {
      "cell_type": "code",
      "metadata": {
        "id": "-zSxPz7lnOeU",
        "colab_type": "code",
        "colab": {
          "base_uri": "https://localhost:8080/",
          "height": 122
        },
        "outputId": "c996e36a-81d1-4de2-f1b0-08aa8d0ceae2"
      },
      "source": [
        "from google.colab import drive\n",
        "drive.mount('/content/gdrive',force_remount=True)\n",
        "root_path = 'gdrive/My Drive'"
      ],
      "execution_count": null,
      "outputs": [
        {
          "output_type": "stream",
          "text": [
            "Go to this URL in a browser: https://accounts.google.com/o/oauth2/auth?client_id=947318989803-6bn6qk8qdgf4n4g3pfee6491hc0brc4i.apps.googleusercontent.com&redirect_uri=urn%3aietf%3awg%3aoauth%3a2.0%3aoob&response_type=code&scope=email%20https%3a%2f%2fwww.googleapis.com%2fauth%2fdocs.test%20https%3a%2f%2fwww.googleapis.com%2fauth%2fdrive%20https%3a%2f%2fwww.googleapis.com%2fauth%2fdrive.photos.readonly%20https%3a%2f%2fwww.googleapis.com%2fauth%2fpeopleapi.readonly\n",
            "\n",
            "Enter your authorization code:\n",
            "··········\n",
            "Mounted at /content/gdrive\n"
          ],
          "name": "stdout"
        }
      ]
    },
    {
      "cell_type": "code",
      "metadata": {
        "id": "vBKLczrKnb0P",
        "colab_type": "code",
        "colab": {}
      },
      "source": [
        "import pandas as pd\n",
        "data = pd.read_csv(root_path+'/mobile_data.csv',index_col=0)"
      ],
      "execution_count": null,
      "outputs": []
    },
    {
      "cell_type": "code",
      "metadata": {
        "id": "ZC9mQ4yHzdjB",
        "colab_type": "code",
        "colab": {
          "base_uri": "https://localhost:8080/",
          "height": 272
        },
        "outputId": "f51795ba-6b03-4215-de76-b09cf8c0fb22"
      },
      "source": [
        "print(data)"
      ],
      "execution_count": null,
      "outputs": [
        {
          "output_type": "stream",
          "text": [
            "         Pixel Density  Screen Size  Weight  ...  Sim1_3G  Sim1_4G  Rating\n",
            "PhoneId                                      ...                          \n",
            "0                  403         6.26     182  ...        0        1     4.5\n",
            "1                  271         6.20     168  ...        0        1     4.5\n",
            "2                  409         6.30     168  ...        0        1     4.4\n",
            "4                  411         6.00     169  ...        0        1     4.3\n",
            "5                  396         6.50     175  ...        0        1     4.4\n",
            "...                ...          ...     ...  ...      ...      ...     ...\n",
            "465                220         5.00     141  ...        0        1     3.8\n",
            "466                401         5.50     165  ...        0        1     3.9\n",
            "468                282         5.20     160  ...        0        1     4.1\n",
            "470                218         4.50     156  ...        0        1     3.6\n",
            "472                401         5.50     153  ...        0        1     4.3\n",
            "\n",
            "[341 rows x 87 columns]\n"
          ],
          "name": "stdout"
        }
      ]
    },
    {
      "cell_type": "markdown",
      "metadata": {
        "id": "0Iww76GN4AZH",
        "colab_type": "text"
      },
      "source": [
        "# Checking Datatypes"
      ]
    },
    {
      "cell_type": "code",
      "metadata": {
        "id": "0jZfygDezfuB",
        "colab_type": "code",
        "colab": {
          "base_uri": "https://localhost:8080/",
          "height": 221
        },
        "outputId": "d3dcceb9-952e-474d-8a35-a245d98f9471"
      },
      "source": [
        "data.dtypes"
      ],
      "execution_count": null,
      "outputs": [
        {
          "output_type": "execute_result",
          "data": {
            "text/plain": [
              "Pixel Density                    int64\n",
              "Screen Size                    float64\n",
              "Weight                           int64\n",
              "RAM                              int64\n",
              "Processor_frequency            float64\n",
              "                                ...   \n",
              "SIM Slot(s)_Single SIM, GSM      int64\n",
              "Sim1_2G                          int64\n",
              "Sim1_3G                          int64\n",
              "Sim1_4G                          int64\n",
              "Rating                         float64\n",
              "Length: 87, dtype: object"
            ]
          },
          "metadata": {
            "tags": []
          },
          "execution_count": 5
        }
      ]
    },
    {
      "cell_type": "code",
      "metadata": {
        "id": "K0fAJP_84XbD",
        "colab_type": "code",
        "colab": {
          "base_uri": "https://localhost:8080/",
          "height": 122
        },
        "outputId": "1278a1cd-dcff-4eb8-a0ed-2501c87ae64a"
      },
      "source": [
        "#Count of unique data types\n",
        "data.get_dtype_counts()"
      ],
      "execution_count": null,
      "outputs": [
        {
          "output_type": "stream",
          "text": [
            "/usr/local/lib/python3.6/dist-packages/ipykernel_launcher.py:1: FutureWarning: `get_dtype_counts` has been deprecated and will be removed in a future version. For DataFrames use `.dtypes.value_counts()\n",
            "  \"\"\"Entry point for launching an IPython kernel.\n"
          ],
          "name": "stderr"
        },
        {
          "output_type": "execute_result",
          "data": {
            "text/plain": [
              "float64     5\n",
              "int64      82\n",
              "dtype: int64"
            ]
          },
          "metadata": {
            "tags": []
          },
          "execution_count": 6
        }
      ]
    },
    {
      "cell_type": "markdown",
      "metadata": {
        "id": "ZcA93O_I8oQD",
        "colab_type": "text"
      },
      "source": [
        "#Selecting data based on data types\n",
        "pandas.DataFrame.select_dtypes() returns a subset of the columns from dataframe based on the column dtypes"
      ]
    },
    {
      "cell_type": "code",
      "metadata": {
        "id": "o9EIo3in8Waj",
        "colab_type": "code",
        "colab": {}
      },
      "source": [
        "data_fil = data.select_dtypes(exclude=[object])"
      ],
      "execution_count": null,
      "outputs": []
    },
    {
      "cell_type": "code",
      "metadata": {
        "id": "So0ScfxA83bC",
        "colab_type": "code",
        "colab": {
          "base_uri": "https://localhost:8080/",
          "height": 272
        },
        "outputId": "42eca3c4-096f-4dd3-a89e-0dfea3eb0b5b"
      },
      "source": [
        "print(data_fil)"
      ],
      "execution_count": null,
      "outputs": [
        {
          "output_type": "stream",
          "text": [
            "         Pixel Density  Screen Size  Weight  ...  Sim1_3G  Sim1_4G  Rating\n",
            "PhoneId                                      ...                          \n",
            "0                  403         6.26     182  ...        0        1     4.5\n",
            "1                  271         6.20     168  ...        0        1     4.5\n",
            "2                  409         6.30     168  ...        0        1     4.4\n",
            "4                  411         6.00     169  ...        0        1     4.3\n",
            "5                  396         6.50     175  ...        0        1     4.4\n",
            "...                ...          ...     ...  ...      ...      ...     ...\n",
            "465                220         5.00     141  ...        0        1     3.8\n",
            "466                401         5.50     165  ...        0        1     3.9\n",
            "468                282         5.20     160  ...        0        1     4.1\n",
            "470                218         4.50     156  ...        0        1     3.6\n",
            "472                401         5.50     153  ...        0        1     4.3\n",
            "\n",
            "[341 rows x 87 columns]\n"
          ],
          "name": "stdout"
        }
      ]
    },
    {
      "cell_type": "markdown",
      "metadata": {
        "id": "qAjnroG89L2k",
        "colab_type": "text"
      },
      "source": [
        "#Summary of Dataframe\n",
        "Details about the data present in the dataframe maybe obtained using info function"
      ]
    },
    {
      "cell_type": "code",
      "metadata": {
        "id": "BwLNIwyH84y9",
        "colab_type": "code",
        "colab": {
          "base_uri": "https://localhost:8080/",
          "height": 1000
        },
        "outputId": "3064213f-2b5d-4f2e-a80a-71292a7f12d9"
      },
      "source": [
        "data.info()"
      ],
      "execution_count": null,
      "outputs": [
        {
          "output_type": "stream",
          "text": [
            "<class 'pandas.core.frame.DataFrame'>\n",
            "Int64Index: 341 entries, 0 to 472\n",
            "Data columns (total 87 columns):\n",
            "Pixel Density                                341 non-null int64\n",
            "Screen Size                                  341 non-null float64\n",
            "Weight                                       341 non-null int64\n",
            "RAM                                          341 non-null int64\n",
            "Processor_frequency                          341 non-null float64\n",
            "Screen to Body Ratio (calculated)            341 non-null float64\n",
            "Height                                       341 non-null float64\n",
            "Internal Memory                              341 non-null int64\n",
            "Capacity                                     341 non-null int64\n",
            "Resolution                                   341 non-null int64\n",
            "SIM 2_2G                                     341 non-null int64\n",
            "SIM 2_3G                                     341 non-null int64\n",
            "SIM 2_4G                                     341 non-null int64\n",
            "SIM 2_Other                                  341 non-null int64\n",
            "Num_cores_312                                341 non-null int64\n",
            "Num_cores_Deca                               341 non-null int64\n",
            "Num_cores_Dual                               341 non-null int64\n",
            "Num_cores_Hexa                               341 non-null int64\n",
            "Num_cores_Octa                               341 non-null int64\n",
            "Num_cores_Other                              341 non-null int64\n",
            "Num_cores_Quad                               341 non-null int64\n",
            "Num_cores_Tru-Octa                           341 non-null int64\n",
            "Brand_10.or                                  341 non-null int64\n",
            "Brand_Apple                                  341 non-null int64\n",
            "Brand_Asus                                   341 non-null int64\n",
            "Brand_Billion                                341 non-null int64\n",
            "Brand_Blackberry                             341 non-null int64\n",
            "Brand_Comio                                  341 non-null int64\n",
            "Brand_Coolpad                                341 non-null int64\n",
            "Brand_Do                                     341 non-null int64\n",
            "Brand_Gionee                                 341 non-null int64\n",
            "Brand_Google                                 341 non-null int64\n",
            "Brand_HTC                                    341 non-null int64\n",
            "Brand_Honor                                  341 non-null int64\n",
            "Brand_Huawei                                 341 non-null int64\n",
            "Brand_InFocus                                341 non-null int64\n",
            "Brand_Infinix                                341 non-null int64\n",
            "Brand_Intex                                  341 non-null int64\n",
            "Brand_Itel                                   341 non-null int64\n",
            "Brand_Jivi                                   341 non-null int64\n",
            "Brand_Karbonn                                341 non-null int64\n",
            "Brand_LG                                     341 non-null int64\n",
            "Brand_Lava                                   341 non-null int64\n",
            "Brand_LeEco                                  341 non-null int64\n",
            "Brand_Lenovo                                 341 non-null int64\n",
            "Brand_Lephone                                341 non-null int64\n",
            "Brand_Lyf                                    341 non-null int64\n",
            "Brand_Meizu                                  341 non-null int64\n",
            "Brand_Micromax                               341 non-null int64\n",
            "Brand_Mobiistar                              341 non-null int64\n",
            "Brand_Moto                                   341 non-null int64\n",
            "Brand_Motorola                               341 non-null int64\n",
            "Brand_Nokia                                  341 non-null int64\n",
            "Brand_Nubia                                  341 non-null int64\n",
            "Brand_OPPO                                   341 non-null int64\n",
            "Brand_OnePlus                                341 non-null int64\n",
            "Brand_Oppo                                   341 non-null int64\n",
            "Brand_Panasonic                              341 non-null int64\n",
            "Brand_Razer                                  341 non-null int64\n",
            "Brand_Realme                                 341 non-null int64\n",
            "Brand_Reliance                               341 non-null int64\n",
            "Brand_Samsung                                341 non-null int64\n",
            "Brand_Sony                                   341 non-null int64\n",
            "Brand_Spice                                  341 non-null int64\n",
            "Brand_Tecno                                  341 non-null int64\n",
            "Brand_Ulefone                                341 non-null int64\n",
            "Brand_VOTO                                   341 non-null int64\n",
            "Brand_Vivo                                   341 non-null int64\n",
            "Brand_Xiaomi                                 341 non-null int64\n",
            "Brand_Xiaomi Poco                            341 non-null int64\n",
            "Brand_Yu                                     341 non-null int64\n",
            "Brand_iVooMi                                 341 non-null int64\n",
            "os_name_Android                              341 non-null int64\n",
            "os_name_Blackberry                           341 non-null int64\n",
            "os_name_KAI                                  341 non-null int64\n",
            "os_name_Nokia                                341 non-null int64\n",
            "os_name_Other                                341 non-null int64\n",
            "os_name_Tizen                                341 non-null int64\n",
            "os_name_iOS                                  341 non-null int64\n",
            "SIM Slot(s)_Dual SIM, GSM+CDMA               341 non-null int64\n",
            "SIM Slot(s)_Dual SIM, GSM+GSM                341 non-null int64\n",
            "SIM Slot(s)_Dual SIM, GSM+GSM, Dual VoLTE    341 non-null int64\n",
            "SIM Slot(s)_Single SIM, GSM                  341 non-null int64\n",
            "Sim1_2G                                      341 non-null int64\n",
            "Sim1_3G                                      341 non-null int64\n",
            "Sim1_4G                                      341 non-null int64\n",
            "Rating                                       341 non-null float64\n",
            "dtypes: float64(5), int64(82)\n",
            "memory usage: 234.4 KB\n"
          ],
          "name": "stdout"
        }
      ]
    },
    {
      "cell_type": "markdown",
      "metadata": {
        "id": "gXLFKZcT-gcM",
        "colab_type": "text"
      },
      "source": [
        "#Analysis of Data in a Field\n",
        "\n",
        "To understand the datatype chosen by Pandas, let us look at the unique  elements of columns"
      ]
    },
    {
      "cell_type": "code",
      "metadata": {
        "id": "KgfF36ZC9dup",
        "colab_type": "code",
        "colab": {
          "base_uri": "https://localhost:8080/",
          "height": 51
        },
        "outputId": "c19d85bb-d252-4497-bfb8-7b4abf2ad3ec"
      },
      "source": [
        "#unique() of NumPyis used to find the unique elements of a column\n",
        "import numpy as np\n",
        "np.unique(data['Rating'])"
      ],
      "execution_count": null,
      "outputs": [
        {
          "output_type": "execute_result",
          "data": {
            "text/plain": [
              "array([2.5, 2.8, 3. , 3.1, 3.2, 3.3, 3.4, 3.5, 3.6, 3.7, 3.8, 3.9, 4. ,\n",
              "       4.1, 4.2, 4.3, 4.4, 4.5, 4.6, 4.7, 4.8, 5. ])"
            ]
          },
          "metadata": {
            "tags": []
          },
          "execution_count": 11
        }
      ]
    },
    {
      "cell_type": "code",
      "metadata": {
        "id": "kTZy-8UJ-13a",
        "colab_type": "code",
        "colab": {
          "base_uri": "https://localhost:8080/",
          "height": 34
        },
        "outputId": "75419edd-b0d4-4384-f3b7-4c7bbcf0d4e5"
      },
      "source": [
        "np.unique(data['Sim1_3G'])"
      ],
      "execution_count": null,
      "outputs": [
        {
          "output_type": "execute_result",
          "data": {
            "text/plain": [
              "array([0, 1])"
            ]
          },
          "metadata": {
            "tags": []
          },
          "execution_count": 12
        }
      ]
    },
    {
      "cell_type": "code",
      "metadata": {
        "id": "ciRX9mVA_NVH",
        "colab_type": "code",
        "colab": {
          "base_uri": "https://localhost:8080/",
          "height": 714
        },
        "outputId": "54cb96c9-feff-47a4-a2d8-ca45855eb5b5"
      },
      "source": [
        "np.unique(data['Height'])"
      ],
      "execution_count": null,
      "outputs": [
        {
          "output_type": "execute_result",
          "data": {
            "text/plain": [
              "array([115.6       , 116.4       , 117.5       , 118.        ,\n",
              "       120.        , 122.9       , 123.        , 123.8       ,\n",
              "       124.        , 124.5       , 125.        , 126.8       ,\n",
              "       128.        , 130.        , 130.7       , 132.        ,\n",
              "       132.7       , 132.9       , 133.4       , 133.6       ,\n",
              "       134.        , 135.        , 136.5       , 137.1       ,\n",
              "       138.1       , 138.3       , 138.4       , 140.4       ,\n",
              "       141.5       , 141.6       , 141.9       , 142.1       ,\n",
              "       142.3       , 142.4       , 142.5       , 142.7       ,\n",
              "       142.8       , 143.        , 143.1       , 143.5       ,\n",
              "       143.6       , 143.8       , 144.        , 144.2       ,\n",
              "       144.3       , 144.5       , 144.7       , 144.8       ,\n",
              "       145.        , 145.2       , 145.4       , 145.5       ,\n",
              "       145.6       , 145.8       , 146.        , 146.2       ,\n",
              "       146.5       , 146.8       , 147.        , 147.2       ,\n",
              "       147.3       , 147.5       , 147.6       , 147.7       ,\n",
              "       147.9       , 148.        , 148.1       , 148.3       ,\n",
              "       148.4       , 148.5       , 148.6       , 148.7       ,\n",
              "       148.8       , 148.9       , 149.1       , 149.2       ,\n",
              "       149.3       , 149.4       , 149.5       , 149.7       ,\n",
              "       149.9       , 149.94639394, 150.        , 150.2       ,\n",
              "       150.5       , 150.9       , 151.        , 151.1       ,\n",
              "       151.2       , 151.3       , 151.5       , 151.7       ,\n",
              "       151.8       , 152.        , 152.2       , 152.4       ,\n",
              "       152.5       , 152.6       , 152.8       , 153.        ,\n",
              "       153.2       , 153.3       , 153.5       , 153.6       ,\n",
              "       153.7       , 153.8       , 154.        , 154.3       ,\n",
              "       154.4       , 154.5       , 154.8       , 154.81      ,\n",
              "       155.        , 155.1       , 155.2       , 155.5       ,\n",
              "       155.7       , 155.8       , 155.9       , 156.        ,\n",
              "       156.2       , 156.4       , 156.5       , 156.7       ,\n",
              "       156.8       , 157.        , 157.5       , 157.6       ,\n",
              "       157.8       , 157.9       , 158.        , 158.1       ,\n",
              "       158.2       , 158.3       , 158.4       , 158.5       ,\n",
              "       158.6       , 158.7       , 158.9       , 159.        ,\n",
              "       159.5       , 159.8       , 159.9       , 160.1       ,\n",
              "       160.4       , 160.7       , 160.9       , 161.        ,\n",
              "       161.4       , 161.7       , 162.        , 162.4       ,\n",
              "       162.5       , 162.9       , 163.6       , 164.        ,\n",
              "       164.2       , 165.        , 166.4       , 169.4       ,\n",
              "       174.1       ])"
            ]
          },
          "metadata": {
            "tags": []
          },
          "execution_count": 18
        }
      ]
    },
    {
      "cell_type": "code",
      "metadata": {
        "id": "NecqARu0_gw-",
        "colab_type": "code",
        "colab": {
          "base_uri": "https://localhost:8080/",
          "height": 34
        },
        "outputId": "d87bc0ac-321d-4575-c2b1-72082294af6a"
      },
      "source": [
        "print(np.unique(data['SIM Slot(s)_Dual SIM, GSM+CDMA']))"
      ],
      "execution_count": null,
      "outputs": [
        {
          "output_type": "stream",
          "text": [
            "[0 1]\n"
          ],
          "name": "stdout"
        }
      ]
    },
    {
      "cell_type": "code",
      "metadata": {
        "id": "B7HXdPXbC1Q2",
        "colab_type": "code",
        "colab": {
          "base_uri": "https://localhost:8080/",
          "height": 34
        },
        "outputId": "623d8c8e-51cd-4724-837c-83a01591d055"
      },
      "source": [
        "print(np.unique(data['Resolution']))"
      ],
      "execution_count": null,
      "outputs": [
        {
          "output_type": "stream",
          "text": [
            "[ 2  5  7  8 12 13 16 20 24 25]\n"
          ],
          "name": "stdout"
        }
      ]
    },
    {
      "cell_type": "code",
      "metadata": {
        "id": "MtxG85lQDYUt",
        "colab_type": "code",
        "colab": {
          "base_uri": "https://localhost:8080/",
          "height": 153
        },
        "outputId": "dde7ac71-f578-46c7-b2f0-c79e7bbd37c5"
      },
      "source": [
        "print(np.unique(data['Capacity']))"
      ],
      "execution_count": null,
      "outputs": [
        {
          "output_type": "stream",
          "text": [
            "[ 1020  1100  1200  1300  1400  1500  1600  1642  1700  1715  1800  1810\n",
            "  1821  1850  1960  2000  2050  2070  2150  2300  2350  2400  2420  2470\n",
            "  2500  2550  2600  2620  2630  2670  2675  2700  2716  2730  2750  2770\n",
            "  2800  2850  2900  2915  2942  2965  2990  3000  3010  3020  3050  3055\n",
            "  3060  3080  3090  3100  3174  3180  3200  3225  3260  3300  3340  3360\n",
            "  3400  3410  3430  3450  3500  3510  3520  3600  3700  3730  3750  3800\n",
            "  4000  4010  4030  4050  4070  4100  4200  4230  4550  5000  5020  5100\n",
            "  5300 13000]\n"
          ],
          "name": "stdout"
        }
      ]
    },
    {
      "cell_type": "code",
      "metadata": {
        "id": "8s_hbEzXDedd",
        "colab_type": "code",
        "colab": {
          "base_uri": "https://localhost:8080/",
          "height": 34
        },
        "outputId": "7c1afc85-ed37-4700-e00c-9c8f48a2f1ea"
      },
      "source": [
        "print(np.unique(data['Internal Memory']))"
      ],
      "execution_count": null,
      "outputs": [
        {
          "output_type": "stream",
          "text": [
            "[  0   4   8  16  32  64 128 256 512]\n"
          ],
          "name": "stdout"
        }
      ]
    },
    {
      "cell_type": "markdown",
      "metadata": {
        "id": "4QXqoGwGDlnL",
        "colab_type": "text"
      },
      "source": [
        "## Since values five, four and three are read as strings, datatype is treated as object instead of integer"
      ]
    },
    {
      "cell_type": "markdown",
      "metadata": {
        "id": "5VESwyI21uV0",
        "colab_type": "text"
      },
      "source": [
        "#Handling Missing Values\n",
        "\n",
        "1.   Missing values exist in the form of 'nan', '??', '????'\n",
        "2.   Python by default replace blank with 'nan'\n",
        "\n"
      ]
    },
    {
      "cell_type": "code",
      "metadata": {
        "id": "1rAnNMX5_muk",
        "colab_type": "code",
        "colab": {}
      },
      "source": [
        "data = pd.read_csv(root_path+'/mobile_data.csv',index_col=0,na_values=[\"??\",\"???\"])"
      ],
      "execution_count": null,
      "outputs": []
    },
    {
      "cell_type": "code",
      "metadata": {
        "id": "vS_JYmdl1sOi",
        "colab_type": "code",
        "colab": {
          "base_uri": "https://localhost:8080/",
          "height": 272
        },
        "outputId": "67ac2ce5-8139-4dbd-d41a-65f61a0f5059"
      },
      "source": [
        "print(data)"
      ],
      "execution_count": null,
      "outputs": [
        {
          "output_type": "stream",
          "text": [
            "         Pixel Density  Screen Size  Weight  ...  Sim1_3G  Sim1_4G  Rating\n",
            "PhoneId                                      ...                          \n",
            "0                  403         6.26     182  ...        0        1     4.5\n",
            "1                  271         6.20     168  ...        0        1     4.5\n",
            "2                  409         6.30     168  ...        0        1     4.4\n",
            "4                  411         6.00     169  ...        0        1     4.3\n",
            "5                  396         6.50     175  ...        0        1     4.4\n",
            "...                ...          ...     ...  ...      ...      ...     ...\n",
            "465                220         5.00     141  ...        0        1     3.8\n",
            "466                401         5.50     165  ...        0        1     3.9\n",
            "468                282         5.20     160  ...        0        1     4.1\n",
            "470                218         4.50     156  ...        0        1     3.6\n",
            "472                401         5.50     153  ...        0        1     4.3\n",
            "\n",
            "[341 rows x 87 columns]\n"
          ],
          "name": "stdout"
        }
      ]
    },
    {
      "cell_type": "code",
      "metadata": {
        "id": "aAhapLWt2rVe",
        "colab_type": "code",
        "colab": {
          "base_uri": "https://localhost:8080/",
          "height": 1000
        },
        "outputId": "321cc267-8415-485b-e663-3c21fff98925"
      },
      "source": [
        "data.info()"
      ],
      "execution_count": null,
      "outputs": [
        {
          "output_type": "stream",
          "text": [
            "<class 'pandas.core.frame.DataFrame'>\n",
            "Int64Index: 341 entries, 0 to 472\n",
            "Data columns (total 87 columns):\n",
            "Pixel Density                                341 non-null int64\n",
            "Screen Size                                  341 non-null float64\n",
            "Weight                                       341 non-null int64\n",
            "RAM                                          341 non-null int64\n",
            "Processor_frequency                          341 non-null float64\n",
            "Screen to Body Ratio (calculated)            341 non-null float64\n",
            "Height                                       341 non-null float64\n",
            "Internal Memory                              341 non-null int64\n",
            "Capacity                                     341 non-null int64\n",
            "Resolution                                   341 non-null int64\n",
            "SIM 2_2G                                     341 non-null int64\n",
            "SIM 2_3G                                     341 non-null int64\n",
            "SIM 2_4G                                     341 non-null int64\n",
            "SIM 2_Other                                  341 non-null int64\n",
            "Num_cores_312                                341 non-null int64\n",
            "Num_cores_Deca                               341 non-null int64\n",
            "Num_cores_Dual                               341 non-null int64\n",
            "Num_cores_Hexa                               341 non-null int64\n",
            "Num_cores_Octa                               341 non-null int64\n",
            "Num_cores_Other                              341 non-null int64\n",
            "Num_cores_Quad                               341 non-null int64\n",
            "Num_cores_Tru-Octa                           341 non-null int64\n",
            "Brand_10.or                                  341 non-null int64\n",
            "Brand_Apple                                  341 non-null int64\n",
            "Brand_Asus                                   341 non-null int64\n",
            "Brand_Billion                                341 non-null int64\n",
            "Brand_Blackberry                             341 non-null int64\n",
            "Brand_Comio                                  341 non-null int64\n",
            "Brand_Coolpad                                341 non-null int64\n",
            "Brand_Do                                     341 non-null int64\n",
            "Brand_Gionee                                 341 non-null int64\n",
            "Brand_Google                                 341 non-null int64\n",
            "Brand_HTC                                    341 non-null int64\n",
            "Brand_Honor                                  341 non-null int64\n",
            "Brand_Huawei                                 341 non-null int64\n",
            "Brand_InFocus                                341 non-null int64\n",
            "Brand_Infinix                                341 non-null int64\n",
            "Brand_Intex                                  341 non-null int64\n",
            "Brand_Itel                                   341 non-null int64\n",
            "Brand_Jivi                                   341 non-null int64\n",
            "Brand_Karbonn                                341 non-null int64\n",
            "Brand_LG                                     341 non-null int64\n",
            "Brand_Lava                                   341 non-null int64\n",
            "Brand_LeEco                                  341 non-null int64\n",
            "Brand_Lenovo                                 341 non-null int64\n",
            "Brand_Lephone                                341 non-null int64\n",
            "Brand_Lyf                                    341 non-null int64\n",
            "Brand_Meizu                                  341 non-null int64\n",
            "Brand_Micromax                               341 non-null int64\n",
            "Brand_Mobiistar                              341 non-null int64\n",
            "Brand_Moto                                   341 non-null int64\n",
            "Brand_Motorola                               341 non-null int64\n",
            "Brand_Nokia                                  341 non-null int64\n",
            "Brand_Nubia                                  341 non-null int64\n",
            "Brand_OPPO                                   341 non-null int64\n",
            "Brand_OnePlus                                341 non-null int64\n",
            "Brand_Oppo                                   341 non-null int64\n",
            "Brand_Panasonic                              341 non-null int64\n",
            "Brand_Razer                                  341 non-null int64\n",
            "Brand_Realme                                 341 non-null int64\n",
            "Brand_Reliance                               341 non-null int64\n",
            "Brand_Samsung                                341 non-null int64\n",
            "Brand_Sony                                   341 non-null int64\n",
            "Brand_Spice                                  341 non-null int64\n",
            "Brand_Tecno                                  341 non-null int64\n",
            "Brand_Ulefone                                341 non-null int64\n",
            "Brand_VOTO                                   341 non-null int64\n",
            "Brand_Vivo                                   341 non-null int64\n",
            "Brand_Xiaomi                                 341 non-null int64\n",
            "Brand_Xiaomi Poco                            341 non-null int64\n",
            "Brand_Yu                                     341 non-null int64\n",
            "Brand_iVooMi                                 341 non-null int64\n",
            "os_name_Android                              341 non-null int64\n",
            "os_name_Blackberry                           341 non-null int64\n",
            "os_name_KAI                                  341 non-null int64\n",
            "os_name_Nokia                                341 non-null int64\n",
            "os_name_Other                                341 non-null int64\n",
            "os_name_Tizen                                341 non-null int64\n",
            "os_name_iOS                                  341 non-null int64\n",
            "SIM Slot(s)_Dual SIM, GSM+CDMA               341 non-null int64\n",
            "SIM Slot(s)_Dual SIM, GSM+GSM                341 non-null int64\n",
            "SIM Slot(s)_Dual SIM, GSM+GSM, Dual VoLTE    341 non-null int64\n",
            "SIM Slot(s)_Single SIM, GSM                  341 non-null int64\n",
            "Sim1_2G                                      341 non-null int64\n",
            "Sim1_3G                                      341 non-null int64\n",
            "Sim1_4G                                      341 non-null int64\n",
            "Rating                                       341 non-null float64\n",
            "dtypes: float64(5), int64(82)\n",
            "memory usage: 234.4 KB\n"
          ],
          "name": "stdout"
        }
      ]
    },
    {
      "cell_type": "markdown",
      "metadata": {
        "id": "eGIjoRxR3RaH",
        "colab_type": "text"
      },
      "source": [
        "# Changing datatype\n",
        "astype() method is used to explicitly convert data types from one to another"
      ]
    },
    {
      "cell_type": "code",
      "metadata": {
        "id": "OLS_nhgH21S2",
        "colab_type": "code",
        "colab": {}
      },
      "source": [
        "# Changing 'MetColor' and 'Automatic' to object data type\n",
        "data['Capacity'] = data['Capacity'].astype('object')"
      ],
      "execution_count": null,
      "outputs": []
    },
    {
      "cell_type": "code",
      "metadata": {
        "id": "K8jiVEjOE8mb",
        "colab_type": "code",
        "colab": {}
      },
      "source": [
        "# Changing 'MetColor' and 'Automatic' to object data type\n",
        "data['Resolution'] = data['Resolution'].astype('object')"
      ],
      "execution_count": null,
      "outputs": []
    },
    {
      "cell_type": "code",
      "metadata": {
        "id": "K4_tEihE3I4Y",
        "colab_type": "code",
        "colab": {
          "base_uri": "https://localhost:8080/",
          "height": 1000
        },
        "outputId": "a713015c-1e48-4dd1-f6a6-2c3e02660f8e"
      },
      "source": [
        "data.info()"
      ],
      "execution_count": null,
      "outputs": [
        {
          "output_type": "stream",
          "text": [
            "<class 'pandas.core.frame.DataFrame'>\n",
            "Int64Index: 341 entries, 0 to 472\n",
            "Data columns (total 87 columns):\n",
            "Pixel Density                                341 non-null int64\n",
            "Screen Size                                  341 non-null float64\n",
            "Weight                                       341 non-null int64\n",
            "RAM                                          341 non-null int64\n",
            "Processor_frequency                          341 non-null float64\n",
            "Screen to Body Ratio (calculated)            341 non-null float64\n",
            "Height                                       341 non-null float64\n",
            "Internal Memory                              341 non-null int64\n",
            "Capacity                                     341 non-null object\n",
            "Resolution                                   341 non-null object\n",
            "SIM 2_2G                                     341 non-null int64\n",
            "SIM 2_3G                                     341 non-null int64\n",
            "SIM 2_4G                                     341 non-null int64\n",
            "SIM 2_Other                                  341 non-null int64\n",
            "Num_cores_312                                341 non-null int64\n",
            "Num_cores_Deca                               341 non-null int64\n",
            "Num_cores_Dual                               341 non-null int64\n",
            "Num_cores_Hexa                               341 non-null int64\n",
            "Num_cores_Octa                               341 non-null int64\n",
            "Num_cores_Other                              341 non-null int64\n",
            "Num_cores_Quad                               341 non-null int64\n",
            "Num_cores_Tru-Octa                           341 non-null int64\n",
            "Brand_10.or                                  341 non-null int64\n",
            "Brand_Apple                                  341 non-null int64\n",
            "Brand_Asus                                   341 non-null int64\n",
            "Brand_Billion                                341 non-null int64\n",
            "Brand_Blackberry                             341 non-null int64\n",
            "Brand_Comio                                  341 non-null int64\n",
            "Brand_Coolpad                                341 non-null int64\n",
            "Brand_Do                                     341 non-null int64\n",
            "Brand_Gionee                                 341 non-null int64\n",
            "Brand_Google                                 341 non-null int64\n",
            "Brand_HTC                                    341 non-null int64\n",
            "Brand_Honor                                  341 non-null int64\n",
            "Brand_Huawei                                 341 non-null int64\n",
            "Brand_InFocus                                341 non-null int64\n",
            "Brand_Infinix                                341 non-null int64\n",
            "Brand_Intex                                  341 non-null int64\n",
            "Brand_Itel                                   341 non-null int64\n",
            "Brand_Jivi                                   341 non-null int64\n",
            "Brand_Karbonn                                341 non-null int64\n",
            "Brand_LG                                     341 non-null int64\n",
            "Brand_Lava                                   341 non-null int64\n",
            "Brand_LeEco                                  341 non-null int64\n",
            "Brand_Lenovo                                 341 non-null int64\n",
            "Brand_Lephone                                341 non-null int64\n",
            "Brand_Lyf                                    341 non-null int64\n",
            "Brand_Meizu                                  341 non-null int64\n",
            "Brand_Micromax                               341 non-null int64\n",
            "Brand_Mobiistar                              341 non-null int64\n",
            "Brand_Moto                                   341 non-null int64\n",
            "Brand_Motorola                               341 non-null int64\n",
            "Brand_Nokia                                  341 non-null int64\n",
            "Brand_Nubia                                  341 non-null int64\n",
            "Brand_OPPO                                   341 non-null int64\n",
            "Brand_OnePlus                                341 non-null int64\n",
            "Brand_Oppo                                   341 non-null int64\n",
            "Brand_Panasonic                              341 non-null int64\n",
            "Brand_Razer                                  341 non-null int64\n",
            "Brand_Realme                                 341 non-null int64\n",
            "Brand_Reliance                               341 non-null int64\n",
            "Brand_Samsung                                341 non-null int64\n",
            "Brand_Sony                                   341 non-null int64\n",
            "Brand_Spice                                  341 non-null int64\n",
            "Brand_Tecno                                  341 non-null int64\n",
            "Brand_Ulefone                                341 non-null int64\n",
            "Brand_VOTO                                   341 non-null int64\n",
            "Brand_Vivo                                   341 non-null int64\n",
            "Brand_Xiaomi                                 341 non-null int64\n",
            "Brand_Xiaomi Poco                            341 non-null int64\n",
            "Brand_Yu                                     341 non-null int64\n",
            "Brand_iVooMi                                 341 non-null int64\n",
            "os_name_Android                              341 non-null int64\n",
            "os_name_Blackberry                           341 non-null int64\n",
            "os_name_KAI                                  341 non-null int64\n",
            "os_name_Nokia                                341 non-null int64\n",
            "os_name_Other                                341 non-null int64\n",
            "os_name_Tizen                                341 non-null int64\n",
            "os_name_iOS                                  341 non-null int64\n",
            "SIM Slot(s)_Dual SIM, GSM+CDMA               341 non-null int64\n",
            "SIM Slot(s)_Dual SIM, GSM+GSM                341 non-null int64\n",
            "SIM Slot(s)_Dual SIM, GSM+GSM, Dual VoLTE    341 non-null int64\n",
            "SIM Slot(s)_Single SIM, GSM                  341 non-null int64\n",
            "Sim1_2G                                      341 non-null int64\n",
            "Sim1_3G                                      341 non-null int64\n",
            "Sim1_4G                                      341 non-null int64\n",
            "Rating                                       341 non-null float64\n",
            "dtypes: float64(5), int64(80), object(2)\n",
            "memory usage: 234.4+ KB\n"
          ],
          "name": "stdout"
        }
      ]
    },
    {
      "cell_type": "markdown",
      "metadata": {
        "id": "n0v6f0ke7fdb",
        "colab_type": "text"
      },
      "source": [
        "# Category Vs Object Datatype\n",
        "Memory consumed can be checked with nbytes"
      ]
    },
    {
      "cell_type": "code",
      "metadata": {
        "id": "tT9xI5503Mgd",
        "colab_type": "code",
        "colab": {
          "base_uri": "https://localhost:8080/",
          "height": 34
        },
        "outputId": "ebf7c415-41ee-4c27-8dd9-363313876d6f"
      },
      "source": [
        "data['Resolution'].nbytes"
      ],
      "execution_count": null,
      "outputs": [
        {
          "output_type": "execute_result",
          "data": {
            "text/plain": [
              "2728"
            ]
          },
          "metadata": {
            "tags": []
          },
          "execution_count": 26
        }
      ]
    },
    {
      "cell_type": "code",
      "metadata": {
        "id": "bPUjg0AQFkZg",
        "colab_type": "code",
        "colab": {
          "base_uri": "https://localhost:8080/",
          "height": 34
        },
        "outputId": "84887d9b-c07a-49d7-e93b-83f29f65ae31"
      },
      "source": [
        "data['Resolution'].astype('category').nbytes # will not make changes"
      ],
      "execution_count": null,
      "outputs": [
        {
          "output_type": "execute_result",
          "data": {
            "text/plain": [
              "421"
            ]
          },
          "metadata": {
            "tags": []
          },
          "execution_count": 27
        }
      ]
    },
    {
      "cell_type": "code",
      "metadata": {
        "id": "zY2bin8oGVhA",
        "colab_type": "code",
        "colab": {
          "base_uri": "https://localhost:8080/",
          "height": 1000
        },
        "outputId": "cae830c8-8fdf-4dda-98bf-b543994acf7f"
      },
      "source": [
        "data.info()"
      ],
      "execution_count": null,
      "outputs": [
        {
          "output_type": "stream",
          "text": [
            "<class 'pandas.core.frame.DataFrame'>\n",
            "Int64Index: 341 entries, 0 to 472\n",
            "Data columns (total 87 columns):\n",
            "Pixel Density                                341 non-null int64\n",
            "Screen Size                                  341 non-null float64\n",
            "Weight                                       341 non-null int64\n",
            "RAM                                          341 non-null int64\n",
            "Processor_frequency                          341 non-null float64\n",
            "Screen to Body Ratio (calculated)            341 non-null float64\n",
            "Height                                       341 non-null float64\n",
            "Internal Memory                              341 non-null int64\n",
            "Capacity                                     341 non-null object\n",
            "Resolution                                   341 non-null object\n",
            "SIM 2_2G                                     341 non-null int64\n",
            "SIM 2_3G                                     341 non-null int64\n",
            "SIM 2_4G                                     341 non-null int64\n",
            "SIM 2_Other                                  341 non-null int64\n",
            "Num_cores_312                                341 non-null int64\n",
            "Num_cores_Deca                               341 non-null int64\n",
            "Num_cores_Dual                               341 non-null int64\n",
            "Num_cores_Hexa                               341 non-null int64\n",
            "Num_cores_Octa                               341 non-null int64\n",
            "Num_cores_Other                              341 non-null int64\n",
            "Num_cores_Quad                               341 non-null int64\n",
            "Num_cores_Tru-Octa                           341 non-null int64\n",
            "Brand_10.or                                  341 non-null int64\n",
            "Brand_Apple                                  341 non-null int64\n",
            "Brand_Asus                                   341 non-null int64\n",
            "Brand_Billion                                341 non-null int64\n",
            "Brand_Blackberry                             341 non-null int64\n",
            "Brand_Comio                                  341 non-null int64\n",
            "Brand_Coolpad                                341 non-null int64\n",
            "Brand_Do                                     341 non-null int64\n",
            "Brand_Gionee                                 341 non-null int64\n",
            "Brand_Google                                 341 non-null int64\n",
            "Brand_HTC                                    341 non-null int64\n",
            "Brand_Honor                                  341 non-null int64\n",
            "Brand_Huawei                                 341 non-null int64\n",
            "Brand_InFocus                                341 non-null int64\n",
            "Brand_Infinix                                341 non-null int64\n",
            "Brand_Intex                                  341 non-null int64\n",
            "Brand_Itel                                   341 non-null int64\n",
            "Brand_Jivi                                   341 non-null int64\n",
            "Brand_Karbonn                                341 non-null int64\n",
            "Brand_LG                                     341 non-null int64\n",
            "Brand_Lava                                   341 non-null int64\n",
            "Brand_LeEco                                  341 non-null int64\n",
            "Brand_Lenovo                                 341 non-null int64\n",
            "Brand_Lephone                                341 non-null int64\n",
            "Brand_Lyf                                    341 non-null int64\n",
            "Brand_Meizu                                  341 non-null int64\n",
            "Brand_Micromax                               341 non-null int64\n",
            "Brand_Mobiistar                              341 non-null int64\n",
            "Brand_Moto                                   341 non-null int64\n",
            "Brand_Motorola                               341 non-null int64\n",
            "Brand_Nokia                                  341 non-null int64\n",
            "Brand_Nubia                                  341 non-null int64\n",
            "Brand_OPPO                                   341 non-null int64\n",
            "Brand_OnePlus                                341 non-null int64\n",
            "Brand_Oppo                                   341 non-null int64\n",
            "Brand_Panasonic                              341 non-null int64\n",
            "Brand_Razer                                  341 non-null int64\n",
            "Brand_Realme                                 341 non-null int64\n",
            "Brand_Reliance                               341 non-null int64\n",
            "Brand_Samsung                                341 non-null int64\n",
            "Brand_Sony                                   341 non-null int64\n",
            "Brand_Spice                                  341 non-null int64\n",
            "Brand_Tecno                                  341 non-null int64\n",
            "Brand_Ulefone                                341 non-null int64\n",
            "Brand_VOTO                                   341 non-null int64\n",
            "Brand_Vivo                                   341 non-null int64\n",
            "Brand_Xiaomi                                 341 non-null int64\n",
            "Brand_Xiaomi Poco                            341 non-null int64\n",
            "Brand_Yu                                     341 non-null int64\n",
            "Brand_iVooMi                                 341 non-null int64\n",
            "os_name_Android                              341 non-null int64\n",
            "os_name_Blackberry                           341 non-null int64\n",
            "os_name_KAI                                  341 non-null int64\n",
            "os_name_Nokia                                341 non-null int64\n",
            "os_name_Other                                341 non-null int64\n",
            "os_name_Tizen                                341 non-null int64\n",
            "os_name_iOS                                  341 non-null int64\n",
            "SIM Slot(s)_Dual SIM, GSM+CDMA               341 non-null int64\n",
            "SIM Slot(s)_Dual SIM, GSM+GSM                341 non-null int64\n",
            "SIM Slot(s)_Dual SIM, GSM+GSM, Dual VoLTE    341 non-null int64\n",
            "SIM Slot(s)_Single SIM, GSM                  341 non-null int64\n",
            "Sim1_2G                                      341 non-null int64\n",
            "Sim1_3G                                      341 non-null int64\n",
            "Sim1_4G                                      341 non-null int64\n",
            "Rating                                       341 non-null float64\n",
            "dtypes: float64(5), int64(80), object(2)\n",
            "memory usage: 234.4+ KB\n"
          ],
          "name": "stdout"
        }
      ]
    },
    {
      "cell_type": "code",
      "metadata": {
        "id": "C8ojtH4gGBBN",
        "colab_type": "code",
        "colab": {}
      },
      "source": [
        "data['Resolution'] = data['Resolution'].astype('category') # datatype of FuelType is changed"
      ],
      "execution_count": null,
      "outputs": []
    },
    {
      "cell_type": "code",
      "metadata": {
        "id": "hAX6x_YaF4g1",
        "colab_type": "code",
        "colab": {
          "base_uri": "https://localhost:8080/",
          "height": 1000
        },
        "outputId": "8a6a8fbf-d409-4f62-e06d-fda961d4a437"
      },
      "source": [
        "data.info()"
      ],
      "execution_count": null,
      "outputs": [
        {
          "output_type": "stream",
          "text": [
            "<class 'pandas.core.frame.DataFrame'>\n",
            "Int64Index: 341 entries, 0 to 472\n",
            "Data columns (total 87 columns):\n",
            "Pixel Density                                341 non-null int64\n",
            "Screen Size                                  341 non-null float64\n",
            "Weight                                       341 non-null int64\n",
            "RAM                                          341 non-null int64\n",
            "Processor_frequency                          341 non-null float64\n",
            "Screen to Body Ratio (calculated)            341 non-null float64\n",
            "Height                                       341 non-null float64\n",
            "Internal Memory                              341 non-null int64\n",
            "Capacity                                     341 non-null object\n",
            "Resolution                                   341 non-null category\n",
            "SIM 2_2G                                     341 non-null int64\n",
            "SIM 2_3G                                     341 non-null int64\n",
            "SIM 2_4G                                     341 non-null int64\n",
            "SIM 2_Other                                  341 non-null int64\n",
            "Num_cores_312                                341 non-null int64\n",
            "Num_cores_Deca                               341 non-null int64\n",
            "Num_cores_Dual                               341 non-null int64\n",
            "Num_cores_Hexa                               341 non-null int64\n",
            "Num_cores_Octa                               341 non-null int64\n",
            "Num_cores_Other                              341 non-null int64\n",
            "Num_cores_Quad                               341 non-null int64\n",
            "Num_cores_Tru-Octa                           341 non-null int64\n",
            "Brand_10.or                                  341 non-null int64\n",
            "Brand_Apple                                  341 non-null int64\n",
            "Brand_Asus                                   341 non-null int64\n",
            "Brand_Billion                                341 non-null int64\n",
            "Brand_Blackberry                             341 non-null int64\n",
            "Brand_Comio                                  341 non-null int64\n",
            "Brand_Coolpad                                341 non-null int64\n",
            "Brand_Do                                     341 non-null int64\n",
            "Brand_Gionee                                 341 non-null int64\n",
            "Brand_Google                                 341 non-null int64\n",
            "Brand_HTC                                    341 non-null int64\n",
            "Brand_Honor                                  341 non-null int64\n",
            "Brand_Huawei                                 341 non-null int64\n",
            "Brand_InFocus                                341 non-null int64\n",
            "Brand_Infinix                                341 non-null int64\n",
            "Brand_Intex                                  341 non-null int64\n",
            "Brand_Itel                                   341 non-null int64\n",
            "Brand_Jivi                                   341 non-null int64\n",
            "Brand_Karbonn                                341 non-null int64\n",
            "Brand_LG                                     341 non-null int64\n",
            "Brand_Lava                                   341 non-null int64\n",
            "Brand_LeEco                                  341 non-null int64\n",
            "Brand_Lenovo                                 341 non-null int64\n",
            "Brand_Lephone                                341 non-null int64\n",
            "Brand_Lyf                                    341 non-null int64\n",
            "Brand_Meizu                                  341 non-null int64\n",
            "Brand_Micromax                               341 non-null int64\n",
            "Brand_Mobiistar                              341 non-null int64\n",
            "Brand_Moto                                   341 non-null int64\n",
            "Brand_Motorola                               341 non-null int64\n",
            "Brand_Nokia                                  341 non-null int64\n",
            "Brand_Nubia                                  341 non-null int64\n",
            "Brand_OPPO                                   341 non-null int64\n",
            "Brand_OnePlus                                341 non-null int64\n",
            "Brand_Oppo                                   341 non-null int64\n",
            "Brand_Panasonic                              341 non-null int64\n",
            "Brand_Razer                                  341 non-null int64\n",
            "Brand_Realme                                 341 non-null int64\n",
            "Brand_Reliance                               341 non-null int64\n",
            "Brand_Samsung                                341 non-null int64\n",
            "Brand_Sony                                   341 non-null int64\n",
            "Brand_Spice                                  341 non-null int64\n",
            "Brand_Tecno                                  341 non-null int64\n",
            "Brand_Ulefone                                341 non-null int64\n",
            "Brand_VOTO                                   341 non-null int64\n",
            "Brand_Vivo                                   341 non-null int64\n",
            "Brand_Xiaomi                                 341 non-null int64\n",
            "Brand_Xiaomi Poco                            341 non-null int64\n",
            "Brand_Yu                                     341 non-null int64\n",
            "Brand_iVooMi                                 341 non-null int64\n",
            "os_name_Android                              341 non-null int64\n",
            "os_name_Blackberry                           341 non-null int64\n",
            "os_name_KAI                                  341 non-null int64\n",
            "os_name_Nokia                                341 non-null int64\n",
            "os_name_Other                                341 non-null int64\n",
            "os_name_Tizen                                341 non-null int64\n",
            "os_name_iOS                                  341 non-null int64\n",
            "SIM Slot(s)_Dual SIM, GSM+CDMA               341 non-null int64\n",
            "SIM Slot(s)_Dual SIM, GSM+GSM                341 non-null int64\n",
            "SIM Slot(s)_Dual SIM, GSM+GSM, Dual VoLTE    341 non-null int64\n",
            "SIM Slot(s)_Single SIM, GSM                  341 non-null int64\n",
            "Sim1_2G                                      341 non-null int64\n",
            "Sim1_3G                                      341 non-null int64\n",
            "Sim1_4G                                      341 non-null int64\n",
            "Rating                                       341 non-null float64\n",
            "dtypes: category(1), float64(5), int64(80), object(1)\n",
            "memory usage: 232.5+ KB\n"
          ],
          "name": "stdout"
        }
      ]
    },
    {
      "cell_type": "markdown",
      "metadata": {
        "id": "9YDbkwX8_dOA",
        "colab_type": "text"
      },
      "source": [
        "#Replacing values in dataframe with desired values"
      ]
    },
    {
      "cell_type": "code",
      "metadata": {
        "id": "Lum4htLh7VX0",
        "colab_type": "code",
        "colab": {}
      },
      "source": [
        "data['Internal Memory'].replace('64',128,inplace=True)\n",
        "data['Internal Memory'].replace('32',32,inplace=True)\n",
        "data['Internal Memory'].replace('128',64,inplace=True)\n"
      ],
      "execution_count": null,
      "outputs": []
    },
    {
      "cell_type": "code",
      "metadata": {
        "id": "kBV6MPH8IYbF",
        "colab_type": "code",
        "colab": {}
      },
      "source": [
        "data['Internal Memory']=data['Internal Memory'].astype('int64')"
      ],
      "execution_count": null,
      "outputs": []
    },
    {
      "cell_type": "code",
      "metadata": {
        "id": "ykFc_K6R_1xF",
        "colab_type": "code",
        "colab": {
          "base_uri": "https://localhost:8080/",
          "height": 272
        },
        "outputId": "e3ea1f0a-a8c0-4f1c-f2c1-f2452798f274"
      },
      "source": [
        "print(data)"
      ],
      "execution_count": null,
      "outputs": [
        {
          "output_type": "stream",
          "text": [
            "         Pixel Density  Screen Size  Weight  ...  Sim1_3G  Sim1_4G  Rating\n",
            "PhoneId                                      ...                          \n",
            "0                  403         6.26     182  ...        0        1     4.5\n",
            "1                  271         6.20     168  ...        0        1     4.5\n",
            "2                  409         6.30     168  ...        0        1     4.4\n",
            "4                  411         6.00     169  ...        0        1     4.3\n",
            "5                  396         6.50     175  ...        0        1     4.4\n",
            "...                ...          ...     ...  ...      ...      ...     ...\n",
            "465                220         5.00     141  ...        0        1     3.8\n",
            "466                401         5.50     165  ...        0        1     3.9\n",
            "468                282         5.20     160  ...        0        1     4.1\n",
            "470                218         4.50     156  ...        0        1     3.6\n",
            "472                401         5.50     153  ...        0        1     4.3\n",
            "\n",
            "[341 rows x 87 columns]\n"
          ],
          "name": "stdout"
        }
      ]
    },
    {
      "cell_type": "markdown",
      "metadata": {
        "id": "fZUa6e6j_-EQ",
        "colab_type": "text"
      },
      "source": [
        "# Identify Missing Values in a column"
      ]
    },
    {
      "cell_type": "code",
      "metadata": {
        "id": "4QQ8qjulAGAx",
        "colab_type": "code",
        "colab": {
          "base_uri": "https://localhost:8080/",
          "height": 221
        },
        "outputId": "77c069a7-72e6-4599-d658-f7f860368815"
      },
      "source": [
        "data.isnull().sum()"
      ],
      "execution_count": null,
      "outputs": [
        {
          "output_type": "execute_result",
          "data": {
            "text/plain": [
              "Pixel Density                  0\n",
              "Screen Size                    0\n",
              "Weight                         0\n",
              "RAM                            0\n",
              "Processor_frequency            0\n",
              "                              ..\n",
              "SIM Slot(s)_Single SIM, GSM    0\n",
              "Sim1_2G                        0\n",
              "Sim1_3G                        0\n",
              "Sim1_4G                        0\n",
              "Rating                         0\n",
              "Length: 87, dtype: int64"
            ]
          },
          "metadata": {
            "tags": []
          },
          "execution_count": 34
        }
      ]
    },
    {
      "cell_type": "code",
      "metadata": {
        "id": "DFycO6xw_39Y",
        "colab_type": "code",
        "colab": {}
      },
      "source": [
        ""
      ],
      "execution_count": null,
      "outputs": []
    }
  ]
}